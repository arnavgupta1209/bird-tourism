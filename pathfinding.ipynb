{
 "cells": [
  {
   "cell_type": "code",
   "execution_count": 284,
   "metadata": {},
   "outputs": [],
   "source": [
    "import pandas as pd\n",
    "import numpy as np\n",
    "import matplotlib.pyplot as plt"
   ]
  },
  {
   "cell_type": "code",
   "execution_count": 285,
   "metadata": {},
   "outputs": [],
   "source": [
    "data = pd.read_csv('obs_movement.csv')"
   ]
  },
  {
   "cell_type": "code",
   "execution_count": 286,
   "metadata": {},
   "outputs": [],
   "source": [
    "data.drop(['Unnamed: 0'], axis=1, inplace=True)"
   ]
  },
  {
   "cell_type": "code",
   "execution_count": 287,
   "metadata": {},
   "outputs": [
    {
     "data": {
      "text/plain": [
       "Index(['STATE', 'LATITUDE', 'LONGITUDE', 'OBSERVATION DATE', 'OBSERVER ID',\n",
       "       'TIME OBSERVATIONS STARTED', 'SAMPLING EVENT IDENTIFIER',\n",
       "       'PROJECT CODE', 'GROUP IDENTIFIER', 'DATE TIME', 'NUMLIST', 'CLUSTER',\n",
       "       'LARGEST CLUSTER', 'NAIVE LOCAL', 'NEXT CLUSTER', 'CHECKLIST NUM',\n",
       "       'LOCAL CLUSTER', 'LOCAL', 'IS URBAN', 'YEAR', 'MONTH'],\n",
       "      dtype='object')"
      ]
     },
     "execution_count": 287,
     "metadata": {},
     "output_type": "execute_result"
    }
   ],
   "source": [
    "data.columns"
   ]
  },
  {
   "cell_type": "code",
   "execution_count": 288,
   "metadata": {},
   "outputs": [],
   "source": [
    "datalist = []\n",
    "def createdata(df):\n",
    "    templist = []\n",
    "    df = df.sort_values(by=['DATE TIME'])\n",
    "    # add all clusters to templist inorder\n",
    "    df.apply(lambda x: templist.append(x['CLUSTER']), axis=1)\n",
    "    # add templist to datalist\n",
    "    datalist.append((df.iloc[0][\"LOCAL CLUSTER\"],templist))"
   ]
  },
  {
   "cell_type": "code",
   "execution_count": 289,
   "metadata": {},
   "outputs": [],
   "source": [
    "MAXLENGTH = 100"
   ]
  },
  {
   "cell_type": "code",
   "execution_count": 290,
   "metadata": {},
   "outputs": [],
   "source": [
    "def pad(seq):\n",
    "    if len(seq) < MAXLENGTH:\n",
    "        return seq + [0]*(MAXLENGTH-len(seq))\n",
    "    else:\n",
    "        return seq[:MAXLENGTH]"
   ]
  },
  {
   "cell_type": "code",
   "execution_count": 291,
   "metadata": {},
   "outputs": [
    {
     "data": {
      "text/html": [
       "<div>\n",
       "<style scoped>\n",
       "    .dataframe tbody tr th:only-of-type {\n",
       "        vertical-align: middle;\n",
       "    }\n",
       "\n",
       "    .dataframe tbody tr th {\n",
       "        vertical-align: top;\n",
       "    }\n",
       "\n",
       "    .dataframe thead th {\n",
       "        text-align: right;\n",
       "    }\n",
       "</style>\n",
       "<table border=\"1\" class=\"dataframe\">\n",
       "  <thead>\n",
       "    <tr style=\"text-align: right;\">\n",
       "      <th></th>\n",
       "    </tr>\n",
       "  </thead>\n",
       "  <tbody>\n",
       "  </tbody>\n",
       "</table>\n",
       "</div>"
      ],
      "text/plain": [
       "Empty DataFrame\n",
       "Columns: []\n",
       "Index: []"
      ]
     },
     "execution_count": 291,
     "metadata": {},
     "output_type": "execute_result"
    }
   ],
   "source": [
    "data.groupby('OBSERVER ID').apply(createdata)"
   ]
  },
  {
   "cell_type": "code",
   "execution_count": 292,
   "metadata": {},
   "outputs": [],
   "source": [
    "datalist = [(l,x) for l,x in datalist if len(x) > 3]"
   ]
  },
  {
   "cell_type": "code",
   "execution_count": 293,
   "metadata": {},
   "outputs": [],
   "source": [
    "datalist = [(l, x[:i]) for l, x in datalist for i in range(3, len(x)+1)]"
   ]
  },
  {
   "cell_type": "code",
   "execution_count": 294,
   "metadata": {},
   "outputs": [],
   "source": [
    "datalist = [(loc,seq[-1],seq[0:-1]) for loc, seq in datalist]"
   ]
  },
  {
   "cell_type": "code",
   "execution_count": null,
   "metadata": {},
   "outputs": [],
   "source": []
  },
  {
   "cell_type": "code",
   "execution_count": 295,
   "metadata": {},
   "outputs": [],
   "source": [
    "datalist = [(end, [loc]+seq) for loc, end, seq in datalist]"
   ]
  },
  {
   "cell_type": "code",
   "execution_count": 296,
   "metadata": {},
   "outputs": [],
   "source": [
    "datalist = [(end, pad(seq)) for end, seq in datalist]"
   ]
  },
  {
   "cell_type": "code",
   "execution_count": 297,
   "metadata": {},
   "outputs": [],
   "source": [
    "encodingdict = {loc: i for i, loc in enumerate(data['CLUSTER'].unique())}\n",
    "encodingdict[0] = 0\n",
    "\n",
    "datalist = [(encodingdict[end], [encodingdict[loc] for loc in seq]) for end, seq in datalist]"
   ]
  },
  {
   "cell_type": "code",
   "execution_count": null,
   "metadata": {},
   "outputs": [],
   "source": []
  },
  {
   "cell_type": "code",
   "execution_count": 298,
   "metadata": {},
   "outputs": [],
   "source": [
    "\n",
    "X = np.array([seq for end, seq in datalist])\n",
    "y = np.array([end for end, seq in datalist])\n",
    "\n",
    "\n"
   ]
  },
  {
   "cell_type": "code",
   "execution_count": 299,
   "metadata": {},
   "outputs": [],
   "source": [
    "y = np.eye(len(encodingdict))[y]"
   ]
  },
  {
   "cell_type": "code",
   "execution_count": 300,
   "metadata": {},
   "outputs": [
    {
     "ename": "NameError",
     "evalue": "name 'h' is not defined",
     "output_type": "error",
     "traceback": [
      "\u001b[1;31m---------------------------------------------------------------------------\u001b[0m",
      "\u001b[1;31mNameError\u001b[0m                                 Traceback (most recent call last)",
      "Cell \u001b[1;32mIn[300], line 1\u001b[0m\n\u001b[1;32m----> 1\u001b[0m \u001b[43mh\u001b[49m\n",
      "\u001b[1;31mNameError\u001b[0m: name 'h' is not defined"
     ]
    }
   ],
   "source": []
  },
  {
   "cell_type": "code",
   "execution_count": 301,
   "metadata": {},
   "outputs": [],
   "source": [
    "from sklearn.model_selection import train_test_split\n",
    "X_train, X_test, y_train, y_test = train_test_split(X, y, test_size=0.2, random_state=42)"
   ]
  },
  {
   "cell_type": "code",
   "execution_count": 302,
   "metadata": {},
   "outputs": [
    {
     "data": {
      "text/plain": [
       "((307733, 100), (76934, 100), (307733, 423), (76934, 423))"
      ]
     },
     "execution_count": 302,
     "metadata": {},
     "output_type": "execute_result"
    }
   ],
   "source": [
    "X_train.shape, X_test.shape, y_train.shape, y_test.shape"
   ]
  },
  {
   "cell_type": "code",
   "execution_count": 303,
   "metadata": {},
   "outputs": [],
   "source": [
    "from keras.models import Sequential\n",
    "from keras.layers import LSTM, Dense\n",
    "\n",
    "model = Sequential()\n",
    "model.add(LSTM(units=256, input_shape=(MAXLENGTH, 1), return_sequences=True))\n",
    "model.add(LSTM(units=256, return_sequences=True))\n",
    "model.add(LSTM(units=128))\n",
    "model.add(Dense(units=len(encodingdict), activation='relu'))\n",
    "model.add(Dense(units=len(encodingdict), activation='relu'))\n",
    "model.add(Dense(units=len(encodingdict), activation='softmax'))\n",
    "model.compile(optimizer='adam', loss='categorical_crossentropy')"
   ]
  },
  {
   "cell_type": "code",
   "execution_count": 304,
   "metadata": {},
   "outputs": [
    {
     "name": "stdout",
     "output_type": "stream",
     "text": [
      "Model: \"sequential_22\"\n",
      "_________________________________________________________________\n",
      " Layer (type)                Output Shape              Param #   \n",
      "=================================================================\n",
      " lstm_52 (LSTM)              (None, 100, 256)          264192    \n",
      "                                                                 \n",
      " lstm_53 (LSTM)              (None, 100, 256)          525312    \n",
      "                                                                 \n",
      " lstm_54 (LSTM)              (None, 128)               197120    \n",
      "                                                                 \n",
      " dense_55 (Dense)            (None, 423)               54567     \n",
      "                                                                 \n",
      " dense_56 (Dense)            (None, 423)               179352    \n",
      "                                                                 \n",
      " dense_57 (Dense)            (None, 423)               179352    \n",
      "                                                                 \n",
      "=================================================================\n",
      "Total params: 1,399,895\n",
      "Trainable params: 1,399,895\n",
      "Non-trainable params: 0\n",
      "_________________________________________________________________\n"
     ]
    }
   ],
   "source": [
    "model.summary()"
   ]
  },
  {
   "cell_type": "code",
   "execution_count": 305,
   "metadata": {},
   "outputs": [
    {
     "name": "stdout",
     "output_type": "stream",
     "text": [
      "Epoch 1/10\n",
      "602/602 [==============================] - 124s 200ms/step - loss: 4.6403 - val_loss: 4.2945\n",
      "Epoch 2/10\n",
      "602/602 [==============================] - 120s 200ms/step - loss: 3.9988 - val_loss: 3.8801\n",
      "Epoch 3/10\n",
      "602/602 [==============================] - 121s 201ms/step - loss: 3.7166 - val_loss: 3.6574\n",
      "Epoch 4/10\n",
      "602/602 [==============================] - 121s 201ms/step - loss: 3.5470 - val_loss: 3.5153\n",
      "Epoch 5/10\n",
      "602/602 [==============================] - 122s 203ms/step - loss: 3.4206 - val_loss: 3.4273\n",
      "Epoch 6/10\n",
      "602/602 [==============================] - 121s 201ms/step - loss: 3.3211 - val_loss: 3.3397\n",
      "Epoch 7/10\n",
      "602/602 [==============================] - 121s 201ms/step - loss: 3.2457 - val_loss: 3.2822\n",
      "Epoch 8/10\n",
      "602/602 [==============================] - 121s 201ms/step - loss: 3.1849 - val_loss: 3.2361\n",
      "Epoch 9/10\n",
      "602/602 [==============================] - 121s 201ms/step - loss: 3.1305 - val_loss: 3.1963\n",
      "Epoch 10/10\n",
      "602/602 [==============================] - 121s 201ms/step - loss: 3.0818 - val_loss: 3.1602\n"
     ]
    }
   ],
   "source": [
    "history = model.fit(X_train, y_train, validation_data=(X_test, y_test), epochs=10, batch_size=512)"
   ]
  },
  {
   "cell_type": "code",
   "execution_count": 330,
   "metadata": {},
   "outputs": [
    {
     "data": {
      "image/png": "[encoded data removed]",
      "text/plain": [
       "<Figure size 800x600 with 1 Axes>"
      ]
     },
     "metadata": {},
     "output_type": "display_data"
    }
   ],
   "source": [
    "plt.figure(figsize=(8, 6))\n",
    "plt.plot(history.history['loss'])\n",
    "plt.plot(history.history['val_loss'])\n",
    "plt.title('Model Loss')\n",
    "plt.ylabel('Loss')\n",
    "plt.xlabel('Epoch')\n",
    "plt.legend(['Train', 'Validation'], loc='upper right')\n",
    "plt.show()"
   ]
  },
  {
   "cell_type": "code",
   "execution_count": 311,
   "metadata": {},
   "outputs": [],
   "source": [
    "model.save('movementmodel.keras')"
   ]
  },
  {
   "cell_type": "code",
   "execution_count": 307,
   "metadata": {},
   "outputs": [],
   "source": [
    "import random as rand"
   ]
  },
  {
   "cell_type": "code",
   "execution_count": 328,
   "metadata": {},
   "outputs": [],
   "source": [
    "def inference(local_cluster, starting_location):\n",
    "    starting_location = encodingdict[starting_location]\n",
    "    local_cluster = encodingdict[local_cluster]\n",
    "    generated_sequence = [local_cluster]+[starting_location]\n",
    "    print(\"GENERATED SEQUENCE: \", generated_sequence)\n",
    "    generated_sequence = pad(generated_sequence)\n",
    "    for i in range(100 - 2):\n",
    "        next_location_probs = model.predict(np.array([generated_sequence]), verbose=0)[0]\n",
    "\n",
    "        # next_location = rand.choices(range(len(next_location_probs)), next_location_probs)[0]\n",
    "        # while next_location == generated_sequence[i+1]:\n",
    "        #     next_location = rand.choices(range(len(next_location_probs)), next_location_probs)[0]\n",
    "        # generated_sequence[i+2] = next_location\n",
    "\n",
    "        candidates = np.argsort(next_location_probs)[-5:]\n",
    "        next_location = rand.choice(candidates)\n",
    "        while next_location == generated_sequence[i+1]:\n",
    "            next_location = rand.choice(candidates)\n",
    "        generated_sequence[i+2] = next_location\n",
    "\n",
    "\n",
    "\n",
    "\n",
    "        # next_location = np.argmax(next_location_probs)\n",
    "        # if next_location != generated_sequence[i+1]:\n",
    "        #     generated_sequence[i+2] = next_location\n",
    "        # else:\n",
    "        #     generated_sequence[i+2] = np.argsort(next_location_probs)[-2]\n",
    "    return generated_sequence\n"
   ]
  },
  {
   "cell_type": "code",
   "execution_count": 329,
   "metadata": {},
   "outputs": [
    {
     "name": "stdout",
     "output_type": "stream",
     "text": [
      "GENERATED SEQUENCE:  [42, 76]\n",
      "[1000, 1011, 1060, 1000, 1060, 1000, 1008, 1031, 1000, 1016, 1056, 1008, 1016, 1013, 1031, 1013, 1000, 1016, 1056, 1016, 1013, 1031, 1008, 1013, 1008, 1013, 1000, 1016, 1008, 1056, 1016, 1008, 1056, 1016, 1000, 1016, 1056, 1031, 1008, 1056, 1008, 1056, 1016, 1008, 1031, 1008, 1016, 1000, 1056, 1000, 1031, 1016, 1031, 1016, 1008, 1031, 1056, 1000, 1008, 1031, 1008, 1016, 1000, 1016, 1031, 1016, 1056, 1000, 1008, 1000, 1016, 1000, 1031, 1016, 1031, 1008, 1000, 1031, 1056, 1031, 1056, 1000, 1016, 1031, 1016, 1008, 1056, 1008, 1031, 1056, 1031, 1056, 1008, 1056, 1011, 1000, 1031, 1056, 1016, 1031]\n"
     ]
    }
   ],
   "source": [
    "seq = inference(1000, 1011)\n",
    "seq = [list(encodingdict.keys())[list(encodingdict.values()).index(i)] for i in seq]\n",
    "print(seq)"
   ]
  },
  {
   "cell_type": "code",
   "execution_count": null,
   "metadata": {},
   "outputs": [],
   "source": []
  }
 ],
 "metadata": {
  "kernelspec": {
   "display_name": "torchenv",
   "language": "python",
   "name": "python3"
  },
  "language_info": {
   "codemirror_mode": {
    "name": "ipython",
    "version": 3
   },
   "file_extension": ".py",
   "mimetype": "text/x-python",
   "name": "python",
   "nbconvert_exporter": "python",
   "pygments_lexer": "ipython3",
   "version": "3.9.12"
  }
 },
 "nbformat": 4,
 "nbformat_minor": 2
}
