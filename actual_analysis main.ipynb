{
 "cells": [
  {
   "cell_type": "markdown",
   "metadata": {},
   "source": [
    "# Loading data"
   ]
  },
  {
   "cell_type": "code",
   "execution_count": null,
   "metadata": {},
   "outputs": [],
   "source": [
    "import pandas as pd\n",
    "import numpy as np\n",
    "import dask.dataframe as dd\n",
    "import seaborn as sns\n",
    "import matplotlib.pyplot as plt\n",
    "import plotly.express as px\n",
    "import warnings\n",
    "import geopandas as gpd\n",
    "import plotly.graph_objects as go\n",
    "from scipy import stats\n",
    "\n",
    "warnings.filterwarnings('ignore')"
   ]
  },
  {
   "cell_type": "code",
   "execution_count": null,
   "metadata": {},
   "outputs": [],
   "source": [
    "token = \"pk.eyJ1IjoiYXJuYXZndXB0YTEyMDkiLCJhIjoiY2x4YTU5eDZvMmJiejJrcXViOWZzNWp3MCJ9.xngTZzyuc8pNyKCkcQgK9A\"\n",
    "px.set_mapbox_access_token(token)"
   ]
  },
  {
   "cell_type": "code",
   "execution_count": null,
   "metadata": {},
   "outputs": [],
   "source": [
    "india_geojson = gpd.read_file(\"india-composite.geojson\")\n",
    "india_geojson = india_geojson.to_crs(\"WGS84\")"
   ]
  },
  {
   "cell_type": "code",
   "execution_count": null,
   "metadata": {},
   "outputs": [],
   "source": [
    "sampling_rate = 10000"
   ]
  },
  {
   "cell_type": "code",
   "execution_count": null,
   "metadata": {},
   "outputs": [],
   "source": [
    "data_df = pd.read_csv('data_df_filtered_triple_multi.csv')\n",
    "cluster_centers_df = pd.read_csv(\"cluster_centers_triple_multi_df.csv\")"
   ]
  },
  {
   "cell_type": "code",
   "execution_count": null,
   "metadata": {},
   "outputs": [],
   "source": [
    "data_df[\"CLUSTER\"] = data_df[\"CLUSTER\"].astype(\"category\")\n",
    "data_df[\"LOCAL CLUSTER\"] = data_df[\"LOCAL CLUSTER\"].astype(\"category\")\n",
    "data_df[\"NEXT CLUSTER\"] = data_df[\"NEXT CLUSTER\"].astype(\"category\")\n",
    "data_df[\"LOCAL CLUSTER\"] = data_df[\"LOCAL CLUSTER\"].astype(\"category\")\n",
    "data_df[\"YEAR\"] = data_df[\"OBSERVATION DATE\"].apply(lambda x: int(x.split(\"-\")[0]))"
   ]
  },
  {
   "cell_type": "code",
   "execution_count": null,
   "metadata": {},
   "outputs": [],
   "source": [
    "TOFILTER = False\n",
    "FILTER = 2019\n",
    "\n",
    "if TOFILTER:\n",
    "    data_df = data_df[data_df[\"YEAR\"] <= FILTER]"
   ]
  },
  {
   "cell_type": "code",
   "execution_count": null,
   "metadata": {},
   "outputs": [],
   "source": [
    "import json\n",
    "with open('observer_graphs_triple.json') as f:\n",
    "    graphs_json = json.load(f)"
   ]
  },
  {
   "cell_type": "code",
   "execution_count": null,
   "metadata": {},
   "outputs": [],
   "source": [
    "from networkx.readwrite import json_graph\n",
    "import networkx as nx\n",
    "\n",
    "graphs = {}\n",
    "for key in graphs_json:\n",
    "    graphs[key] = json_graph.adjacency_graph(graphs_json[key])"
   ]
  },
  {
   "cell_type": "markdown",
   "metadata": {},
   "source": [
    "# Preliminary Analysis"
   ]
  },
  {
   "cell_type": "code",
   "execution_count": null,
   "metadata": {},
   "outputs": [],
   "source": [
    "# fig = px.scatter_mapbox(data_df.sample(10000), lat=\"LATITUDE\", lon=\"LONGITUDE\", color=\"CLUSTER\")\n",
    "# fig.update_layout(mapbox_style=\"open-street-map\")\n",
    "# fig.show()"
   ]
  },
  {
   "cell_type": "code",
   "execution_count": null,
   "metadata": {},
   "outputs": [],
   "source": [
    "data_df[\"LOCAL\"].describe()"
   ]
  },
  {
   "cell_type": "code",
   "execution_count": null,
   "metadata": {},
   "outputs": [],
   "source": [
    "data_df[\"LOCAL\"].value_counts()"
   ]
  },
  {
   "cell_type": "code",
   "execution_count": null,
   "metadata": {},
   "outputs": [],
   "source": [
    "data_df.groupby(\"OBSERVER ID\").agg({\"LOCAL\": \"mean\"}).sort_values(\"LOCAL\", ascending=False).plot(kind=\"hist\", bins=20, xlabel=\"Localness\", ylabel=\"Number of Observers\")"
   ]
  },
  {
   "cell_type": "code",
   "execution_count": null,
   "metadata": {},
   "outputs": [],
   "source": [
    "data_df.groupby(\"OBSERVER ID\").agg({\"NAIVE LOCAL\": \"mean\"}).sort_values(\"NAIVE LOCAL\", ascending=False).plot(kind=\"hist\", bins=20, xlabel=\"Localness\", ylabel=\"Number of Observers\")"
   ]
  },
  {
   "cell_type": "code",
   "execution_count": null,
   "metadata": {},
   "outputs": [],
   "source": [
    "data_df[data_df[\"YEAR\"] > 2020].groupby(\"OBSERVER ID\").agg({\"LOCAL\": \"mean\"}).sort_values(\"LOCAL\", ascending=False).plot(kind=\"hist\", bins=20, xlabel=\"Localness\", ylabel=\"Number of Observers\")"
   ]
  },
  {
   "cell_type": "code",
   "execution_count": null,
   "metadata": {},
   "outputs": [],
   "source": [
    "\n",
    "data_df.groupby(\"STATE\").agg({\"LOCAL\": \"mean\"}).sort_values(\"LOCAL\", ascending=False).plot(kind=\"barh\", figsize=(7,7), ylabel=\"\", xlim=(0, 1))"
   ]
  },
  {
   "cell_type": "code",
   "execution_count": null,
   "metadata": {},
   "outputs": [],
   "source": [
    "# data_df[data_df[\"STATE\"] == \"Dadra and Nagar Haveli\"].groupby(\"OBSERVER ID\").size().sort_values(ascending=False).plot(kind=\"bar\", figsize=(7,7), ylabel=\"Number of Observations\")"
   ]
  },
  {
   "cell_type": "code",
   "execution_count": null,
   "metadata": {},
   "outputs": [],
   "source": [
    "\n",
    "data_df.groupby(\"STATE\").agg({\"NAIVE LOCAL\": \"mean\"}).sort_values(\"NAIVE LOCAL\", ascending=False).plot(kind=\"barh\", figsize=(7,7), ylabel=\"\", xlim=(0, 1))"
   ]
  },
  {
   "cell_type": "code",
   "execution_count": null,
   "metadata": {},
   "outputs": [],
   "source": [
    "#plot localness vs year from observation date\n",
    "data_df[\"OBSERVATION DATE\"] = pd.to_datetime(data_df[\"OBSERVATION DATE\"])\n",
    "data_df[\"YEAR\"] = data_df[\"OBSERVATION DATE\"].dt.year\n",
    "data_df[\"MONTH\"] = data_df[\"OBSERVATION DATE\"].dt.month\n",
    "\n",
    "data_df[data_df[\"YEAR\"]>2000].groupby(\"YEAR\").agg({\"LOCAL\": \"mean\"}).plot(kind=\"line\", ylabel=\"Localness\", xlabel=\"Year\", title=\"Localness vs Year\")\n"
   ]
  },
  {
   "cell_type": "code",
   "execution_count": null,
   "metadata": {},
   "outputs": [],
   "source": [
    "data_df[data_df[\"YEAR\"]>2000].groupby(\"MONTH\").agg({\"LOCAL\": \"mean\"}).plot(kind=\"line\", ylabel=\"Localness\", xlabel=\"Month\", title=\"Localness vs MONTH\", xticks=range(1, 13))\n",
    "\n"
   ]
  },
  {
   "cell_type": "code",
   "execution_count": null,
   "metadata": {},
   "outputs": [],
   "source": [
    "data_df[data_df[\"YEAR\"]>2010].groupby(\"YEAR\").agg({\"OBSERVATION DATE\": \"count\"}).plot(kind=\"line\", ylabel=\"COUNT\", xlabel=\"Year\", title=\"COUNT vs Year\")"
   ]
  },
  {
   "cell_type": "markdown",
   "metadata": {},
   "source": [
    "# TOP TOURIST DESTINATIONS"
   ]
  },
  {
   "cell_type": "code",
   "execution_count": null,
   "metadata": {},
   "outputs": [],
   "source": [
    "top_tourist = data_df[data_df[\"LOCAL\"]==False].groupby(\"CLUSTER\").size().reset_index(name=\"COUNT\").sort_values(\"COUNT\", ascending=False)"
   ]
  },
  {
   "cell_type": "code",
   "execution_count": null,
   "metadata": {},
   "outputs": [],
   "source": [
    "total_cluster_obs = data_df.groupby(\"CLUSTER\").size().reset_index(name=\"COUNT\").sort_values(\"COUNT\", ascending=False)\n",
    "top_tourist_rel = pd.merge(top_tourist, total_cluster_obs, on=\"CLUSTER\")\n",
    "top_tourist_rel[\"REL TOURISM\"] = top_tourist_rel[\"COUNT_x\"] / top_tourist_rel[\"COUNT_y\"]\n",
    "top_tourist_rel.sort_values(\"REL TOURISM\", ascending=False, inplace=True)"
   ]
  },
  {
   "cell_type": "code",
   "execution_count": null,
   "metadata": {},
   "outputs": [],
   "source": [
    "fig = px.scatter_mapbox(data_df[data_df[\"CLUSTER\"].isin(top_tourist[\"CLUSTER\"].head(20))][data_df[\"LOCAL\"]==False].sample(sampling_rate), lat=\"LATITUDE\", lon=\"LONGITUDE\", zoom=2, color=\"CLUSTER\", title=\"Absolute top tourist clusters\")\n",
    "fig.update_layout(mapbox_style=\"open-street-map\", width=1000, height=1000, mapbox_accesstoken=token)\n",
    "fig.update_layout(mapbox={\"layers\":[\n",
    "            {\n",
    "                \"source\": india_geojson[\"geometry\"].__geo_interface__,\n",
    "                \"type\": \"line\",\n",
    "                \"color\": \"black\",\n",
    "                \"line\": {\"width\": 0.5},\n",
    "            }\n",
    "        ]})\n",
    "fig.show()"
   ]
  },
  {
   "cell_type": "code",
   "execution_count": null,
   "metadata": {},
   "outputs": [],
   "source": [
    "top_tourist_rel[top_tourist_rel[\"COUNT_x\"]>2000]"
   ]
  },
  {
   "cell_type": "code",
   "execution_count": null,
   "metadata": {},
   "outputs": [],
   "source": [
    "fig = px.scatter_mapbox(data_df[data_df[\"CLUSTER\"].isin(top_tourist_rel[top_tourist_rel[\"COUNT_x\"]>2000][\"CLUSTER\"].head(20))][data_df[\"LOCAL\"]==False].sample(sampling_rate, replace=True), lat=\"LATITUDE\", lon=\"LONGITUDE\", zoom=2, color=\"CLUSTER\", title=\"Relative top tourist clusters\")\n",
    "fig.update_layout(mapbox_style=\"open-street-map\", width=1000, height=1000)\n",
    "fig.update_layout(mapbox={\"layers\":[\n",
    "            {\n",
    "                \"source\": india_geojson[\"geometry\"].__geo_interface__,\n",
    "                \"type\": \"line\",\n",
    "                \"color\": \"black\",\n",
    "                \"line\": {\"width\": 0.5},\n",
    "            }\n",
    "        ]})\n",
    "fig.show()"
   ]
  },
  {
   "cell_type": "markdown",
   "metadata": {},
   "source": [
    "Top Local Destinations"
   ]
  },
  {
   "cell_type": "code",
   "execution_count": null,
   "metadata": {},
   "outputs": [],
   "source": [
    "top_local = data_df[data_df[\"LOCAL\"]==True].groupby(\"CLUSTER\").size().reset_index(name=\"COUNT\").sort_values(\"COUNT\", ascending=False)\n",
    "top_local"
   ]
  },
  {
   "cell_type": "code",
   "execution_count": null,
   "metadata": {},
   "outputs": [],
   "source": [
    "total_cluster_obs = data_df.groupby(\"CLUSTER\").size().reset_index(name=\"COUNT\").sort_values(\"COUNT\", ascending=False)\n",
    "top_local_rel = pd.merge(top_local, total_cluster_obs, on=\"CLUSTER\")\n",
    "top_local_rel[\"REL LOCAL\"] = top_local_rel[\"COUNT_x\"] / top_local_rel[\"COUNT_y\"]\n",
    "top_local_rel.sort_values(\"REL LOCAL\", ascending=False, inplace=True)"
   ]
  },
  {
   "cell_type": "code",
   "execution_count": null,
   "metadata": {},
   "outputs": [],
   "source": [
    "top_local_rel.head(20)"
   ]
  },
  {
   "cell_type": "code",
   "execution_count": null,
   "metadata": {},
   "outputs": [],
   "source": [
    "fig = px.scatter_mapbox(data_df[data_df[\"CLUSTER\"].isin(top_local.head(20)[\"CLUSTER\"])][data_df[\"LOCAL\"]==True].sample(sampling_rate), lat=\"LATITUDE\", lon=\"LONGITUDE\", zoom=2, color=\"CLUSTER\", title=\"Absolute top local clusters\")\n",
    "fig.update_layout(mapbox_style=\"open-street-map\", width=1000, height=1000)\n",
    "fig.update_layout(mapbox={\"layers\":[\n",
    "            {\n",
    "                \"source\": india_geojson[\"geometry\"].__geo_interface__,\n",
    "                \"type\": \"line\",\n",
    "                \"color\": \"black\",\n",
    "                \"line\": {\"width\": 0.5},\n",
    "            }\n",
    "        ]})\n",
    "fig.show()"
   ]
  },
  {
   "cell_type": "code",
   "execution_count": null,
   "metadata": {},
   "outputs": [],
   "source": [
    "top_local_rel"
   ]
  },
  {
   "cell_type": "code",
   "execution_count": null,
   "metadata": {},
   "outputs": [],
   "source": [
    "temp_sampling = 50000\n",
    "fig = px.scatter_mapbox(data_df[data_df[\"CLUSTER\"].isin(top_local_rel[\"CLUSTER\"].head(20))][data_df[\"LOCAL\"]==True].sample(temp_sampling, replace=True), lat=\"LATITUDE\", lon=\"LONGITUDE\", zoom=2, color=\"CLUSTER\", title=\"Relative top local clusters\")\n",
    "fig.update_layout(mapbox_style=\"open-street-map\", width=1000, height=1000)\n",
    "fig.update_layout(mapbox={\"layers\":[\n",
    "            {\n",
    "                \"source\": india_geojson[\"geometry\"].__geo_interface__,\n",
    "                \"type\": \"line\",\n",
    "                \"color\": \"black\",\n",
    "                \"line\": {\"width\": 0.5},\n",
    "            }\n",
    "        ]})\n",
    "fig.show()"
   ]
  },
  {
   "cell_type": "markdown",
   "metadata": {},
   "source": [
    "LOCAL TOURIST PAIRS"
   ]
  },
  {
   "cell_type": "code",
   "execution_count": null,
   "metadata": {},
   "outputs": [],
   "source": [
    "local_tourist_pairs = data_df[data_df[\"LOCAL\"]==False].groupby([\"CLUSTER\", \"LOCAL CLUSTER\"]).size().reset_index(name=\"COUNT\").sort_values(\"COUNT\", ascending=False)\n",
    "local_tourist_pairs"
   ]
  },
  {
   "cell_type": "code",
   "execution_count": null,
   "metadata": {},
   "outputs": [],
   "source": [
    "# REL_WRT_S, REL_WRT_LOC, REL_WRT_TOUR, REL_WRT_TOUR_LOC\n",
    "S = local_tourist_pairs.groupby(\"LOCAL CLUSTER\").agg({\"COUNT\": \"sum\"}).sort_values(\"COUNT\", ascending=False).reset_index()\n",
    "S.columns = [\"LOCAL CLUSTER\", \"COUNT_S\"]\n",
    "local_tourist_pairs = pd.merge(local_tourist_pairs, S, on=\"LOCAL CLUSTER\", how=\"left\")\n",
    "local_tourist_pairs[\"REL_WRT_S\"] = local_tourist_pairs[\"COUNT\"] / local_tourist_pairs[\"COUNT_S\"]\n",
    "local_tourist_pairs.drop(\"COUNT_S\", axis=1, inplace=True)\n",
    "\n",
    "LOC = data_df[data_df[\"LOCAL\"]==True].groupby(\"CLUSTER\").agg({\"LOCAL\": \"sum\"}).sort_values(\"LOCAL\", ascending=False).reset_index()\n",
    "LOC.columns = [\"CLUSTER\", \"COUNT_LOC\"]\n",
    "local_tourist_pairs = pd.merge(local_tourist_pairs, LOC, on=\"CLUSTER\", how=\"left\")\n",
    "local_tourist_pairs[\"REL_WRT_LOC\"] = local_tourist_pairs[\"COUNT\"] / (local_tourist_pairs[\"COUNT_LOC\"]+0.01)\n",
    "local_tourist_pairs.drop(\"COUNT_LOC\", axis=1, inplace=True)\n",
    "\n",
    "TOUR = local_tourist_pairs.groupby(\"CLUSTER\").agg({\"COUNT\": \"sum\"}).sort_values(\"COUNT\", ascending=False).reset_index()\n",
    "TOUR.columns = [\"CLUSTER\", \"COUNT_TOUR\"]\n",
    "local_tourist_pairs = pd.merge(local_tourist_pairs, TOUR, on=\"CLUSTER\", how=\"left\")\n",
    "local_tourist_pairs[\"REL_WRT_TOUR\"] = local_tourist_pairs[\"COUNT\"] / local_tourist_pairs[\"COUNT_TOUR\"]\n",
    "local_tourist_pairs.drop(\"COUNT_TOUR\", axis=1, inplace=True)\n",
    "\n",
    "TOUR_LOC = data_df.groupby(\"CLUSTER\").agg({\"LOCAL\": \"count\"}).sort_values(\"LOCAL\", ascending=False).reset_index()\n",
    "TOUR_LOC.columns = [\"CLUSTER\", \"COUNT_TOUR_LOC\"]\n",
    "local_tourist_pairs = pd.merge(local_tourist_pairs, TOUR_LOC, on=\"CLUSTER\", how=\"left\")\n",
    "local_tourist_pairs[\"REL_WRT_TOUR_LOC\"] = local_tourist_pairs[\"COUNT\"] / (local_tourist_pairs[\"COUNT_TOUR_LOC\"]+0.01)\n",
    "local_tourist_pairs.drop(\"COUNT_TOUR_LOC\", axis=1, inplace=True)\n",
    "local_tourist_pairs = local_tourist_pairs[local_tourist_pairs[\"COUNT\"]>20]"
   ]
  },
  {
   "cell_type": "code",
   "execution_count": null,
   "metadata": {},
   "outputs": [],
   "source": [
    "local_tourist_pairs.sort_values(\"REL_WRT_S\", ascending=False)"
   ]
  },
  {
   "cell_type": "code",
   "execution_count": null,
   "metadata": {},
   "outputs": [],
   "source": [
    "local_tourist_pairs = local_tourist_pairs[local_tourist_pairs[\"COUNT\"]>500]"
   ]
  },
  {
   "cell_type": "code",
   "execution_count": null,
   "metadata": {},
   "outputs": [],
   "source": [
    "route_mapping_df = local_tourist_pairs"
   ]
  },
  {
   "cell_type": "code",
   "execution_count": null,
   "metadata": {},
   "outputs": [],
   "source": [
    "cluster_centers_df"
   ]
  },
  {
   "cell_type": "code",
   "execution_count": null,
   "metadata": {},
   "outputs": [],
   "source": [
    "route_mapping_df = route_mapping_df.merge(cluster_centers_df, on=\"CLUSTER\", how=\"left\")\n",
    "route_mapping_df = route_mapping_df.merge(cluster_centers_df, left_on=\"LOCAL CLUSTER\", right_on=\"CLUSTER\", how=\"left\")"
   ]
  },
  {
   "cell_type": "code",
   "execution_count": null,
   "metadata": {},
   "outputs": [],
   "source": [
    "route_mapping_df"
   ]
  },
  {
   "cell_type": "code",
   "execution_count": null,
   "metadata": {},
   "outputs": [],
   "source": [
    "route_mapping_df.drop([\"CLUSTER_y\"], axis=1, inplace=True)\n",
    "route_mapping_df.columns = [\"CLUSTER\", \"LOCAL CLUSTER\", \"COUNT\", \"REL_WRT_S\", \"REL_WRT_LOC\", \"REL_WRT_TOUR\", \"REL_WRT_TOUR_LOC\", \"LATITUDE_D\", \"LONGITUDE_D\", \"LATITUDE_S\", \"LONGITUDE_S\"]"
   ]
  },
  {
   "cell_type": "code",
   "execution_count": null,
   "metadata": {},
   "outputs": [],
   "source": [
    "route_mapping_df"
   ]
  },
  {
   "cell_type": "code",
   "execution_count": null,
   "metadata": {},
   "outputs": [],
   "source": [
    "route_mapping_df[\"CLUSTER\"] = route_mapping_df[\"CLUSTER\"].astype('category')\n",
    "route_mapping_df[\"LOCAL CLUSTER\"] = route_mapping_df[\"LOCAL CLUSTER\"].astype('category')"
   ]
  },
  {
   "cell_type": "code",
   "execution_count": null,
   "metadata": {},
   "outputs": [],
   "source": [
    "from sklearn.metrics.pairwise import haversine_distances\n",
    "from math import radians\n",
    "\n",
    "def haversine(lat1, lon1, lat2, lon2):\n",
    "    lat1, lon1, lat2, lon2 = map(radians, [lat1, lon1, lat2, lon2])\n",
    "    return haversine_distances([[lat1, lon1], [lat2, lon2]])[0][1]\n",
    "\n",
    "route_mapping_df[\"DISTANCE\"] = route_mapping_df.apply(lambda x: haversine(x[\"LATITUDE_D\"], x[\"LONGITUDE_D\"], x[\"LATITUDE_S\"], x[\"LONGITUDE_S\"]), axis=1)\n",
    "\n",
    "route_mapping_df[\"DISTANCE\"] = route_mapping_df[\"DISTANCE\"] * 6371"
   ]
  },
  {
   "cell_type": "code",
   "execution_count": null,
   "metadata": {},
   "outputs": [],
   "source": [
    "route_mapping_df.describe()"
   ]
  },
  {
   "cell_type": "markdown",
   "metadata": {},
   "source": [
    "DISTANCE FILTER"
   ]
  },
  {
   "cell_type": "code",
   "execution_count": null,
   "metadata": {},
   "outputs": [],
   "source": [
    "route_mapping_df_filtered = route_mapping_df[route_mapping_df[\"DISTANCE\"]>500]"
   ]
  },
  {
   "cell_type": "code",
   "execution_count": null,
   "metadata": {},
   "outputs": [],
   "source": [
    "route_mapping_df.describe()"
   ]
  },
  {
   "cell_type": "code",
   "execution_count": null,
   "metadata": {},
   "outputs": [],
   "source": [
    "\n",
    "TOP_NUM = 10\n",
    "\n",
    "fig = go.Figure()\n",
    "ROUTE_MAPPING_VAR = \"COUNT\"\n",
    "temp_route_mapping_df = route_mapping_df.sort_values(ROUTE_MAPPING_VAR, ascending=False)\n",
    "for i in range(TOP_NUM):\n",
    "    dest_cluster = temp_route_mapping_df.iloc[i][\"CLUSTER\"]\n",
    "    source_cluster = temp_route_mapping_df.iloc[i][\"LOCAL CLUSTER\"]\n",
    "    dest = temp_route_mapping_df.iloc[i][[\"LATITUDE_D\", \"LONGITUDE_D\"]]\n",
    "    source = temp_route_mapping_df.iloc[i][[\"LATITUDE_S\", \"LONGITUDE_S\"]]\n",
    "\n",
    "    theta = 30\n",
    "    theta = np.radians(theta)\n",
    "    c = 0.3\n",
    "    phi = np.arctan2(dest[1] - source[1], dest[0] - source[0])\n",
    "\n",
    "\n",
    "\n",
    "\n",
    "\n",
    "    templat1 = dest[0] - c*np.cos(phi - theta)\n",
    "    templong1 = dest[1] - c*np.sin(phi - theta)\n",
    "    templat2 = dest[0] - c*np.cos(phi + theta)\n",
    "    templong2 = dest[1] - c*np.sin(phi + theta)\n",
    "\n",
    "    fig.add_trace(go.Scattermapbox(lat=[source[0]], lon=[source[1]], mode = \"markers\", marker=go.scattermapbox.Marker(size=20, color=\"blue\", opacity=0.7)))\n",
    "    fig.add_trace(go.Scattermapbox(lat=[dest[0]], lon=[dest[1]], mode = \"markers\", marker=go.scattermapbox.Marker(size=15, color=\"green\")))\n",
    "    fig.add_trace(go.Scattermapbox(lat=[source[0], dest[0]], lon=[source[1], dest[1]], mode=\"lines\", line=go.scattermapbox.Line(width=2, color=\"black\")))\n",
    "\n",
    "    fig.add_trace(go.Scattermapbox(lat=[templat1, dest[0]], lon=[templong1, dest[1]], mode=\"lines\", line=go.scattermapbox.Line(width=2, color=\"black\")))\n",
    "    fig.add_trace(go.Scattermapbox(lat=[templat2, dest[0]], lon=[templong2, dest[1]], mode=\"lines\", line=go.scattermapbox.Line(width=2, color=\"black\")))\n",
    "\n",
    "\n",
    "\n",
    "\n",
    "\n",
    "fig.update_layout(mapbox_style=\"open-street-map\", title = f\"Top 10 routes ({ROUTE_MAPPING_VAR})\", width=1000, height=1000, showlegend=False)\n",
    "fig.update_layout(mapbox={\"layers\":[\n",
    "            {\n",
    "                \"source\": india_geojson[\"geometry\"].__geo_interface__,\n",
    "                \"type\": \"line\",\n",
    "                \"color\": \"black\",\n",
    "                \"line\": {\"width\": 0.5},\n",
    "            }\n",
    "        ]})\n",
    "fig.show()"
   ]
  },
  {
   "cell_type": "code",
   "execution_count": null,
   "metadata": {},
   "outputs": [],
   "source": [
    "\n",
    "TOP_NUM = 10\n",
    "\n",
    "fig = go.Figure()\n",
    "ROUTE_MAPPING_VAR = \"COUNT\"\n",
    "temp_route_mapping_df = route_mapping_df_filtered.sort_values(ROUTE_MAPPING_VAR, ascending=False)\n",
    "for i in range(TOP_NUM):\n",
    "    dest_cluster = temp_route_mapping_df.iloc[i][\"CLUSTER\"]\n",
    "    source_cluster = temp_route_mapping_df.iloc[i][\"LOCAL CLUSTER\"]\n",
    "    dest = temp_route_mapping_df.iloc[i][[\"LATITUDE_D\", \"LONGITUDE_D\"]]\n",
    "    source = temp_route_mapping_df.iloc[i][[\"LATITUDE_S\", \"LONGITUDE_S\"]]\n",
    "\n",
    "    theta = 30\n",
    "    theta = np.radians(theta)\n",
    "    c = 0.3\n",
    "    phi = np.arctan2(dest[1] - source[1], dest[0] - source[0])\n",
    "\n",
    "\n",
    "\n",
    "\n",
    "\n",
    "    templat1 = dest[0] - c*np.cos(phi - theta)\n",
    "    templong1 = dest[1] - c*np.sin(phi - theta)\n",
    "    templat2 = dest[0] - c*np.cos(phi + theta)\n",
    "    templong2 = dest[1] - c*np.sin(phi + theta)\n",
    "\n",
    "    fig.add_trace(go.Scattermapbox(lat=[source[0]], lon=[source[1]], mode = \"markers\", marker=go.scattermapbox.Marker(size=20, color=\"blue\", opacity=0.7)))\n",
    "    fig.add_trace(go.Scattermapbox(lat=[dest[0]], lon=[dest[1]], mode = \"markers\", marker=go.scattermapbox.Marker(size=15, color=\"green\")))\n",
    "    fig.add_trace(go.Scattermapbox(lat=[source[0], dest[0]], lon=[source[1], dest[1]], mode=\"lines\", line=go.scattermapbox.Line(width=2, color=\"black\")))\n",
    "\n",
    "    fig.add_trace(go.Scattermapbox(lat=[templat1, dest[0]], lon=[templong1, dest[1]], mode=\"lines\", line=go.scattermapbox.Line(width=2, color=\"black\")))\n",
    "    fig.add_trace(go.Scattermapbox(lat=[templat2, dest[0]], lon=[templong2, dest[1]], mode=\"lines\", line=go.scattermapbox.Line(width=2, color=\"black\")))\n",
    "\n",
    "\n",
    "fig.update_layout(mapbox_style=\"open-street-map\", title = f\"Top 10 routes ({ROUTE_MAPPING_VAR}) filtered\", width=1000, height=1000, showlegend=False)\n",
    "fig.update_layout(mapbox={\"layers\":[\n",
    "            {\n",
    "                \"source\": india_geojson[\"geometry\"].__geo_interface__,\n",
    "                \"type\": \"line\",\n",
    "                \"color\": \"black\",\n",
    "                \"line\": {\"width\": 0.5},\n",
    "            }\n",
    "        ]})\n",
    "fig.show()"
   ]
  },
  {
   "cell_type": "code",
   "execution_count": null,
   "metadata": {},
   "outputs": [],
   "source": [
    "\n",
    "TOP_NUM = 10\n",
    "\n",
    "fig = go.Figure()\n",
    "ROUTE_MAPPING_VAR = \"REL_WRT_S\"\n",
    "temp_route_mapping_df = route_mapping_df.sort_values(ROUTE_MAPPING_VAR, ascending=False)\n",
    "for i in range(TOP_NUM):\n",
    "    dest_cluster = temp_route_mapping_df.iloc[i][\"CLUSTER\"]\n",
    "    source_cluster = temp_route_mapping_df.iloc[i][\"LOCAL CLUSTER\"]\n",
    "    dest = temp_route_mapping_df.iloc[i][[\"LATITUDE_D\", \"LONGITUDE_D\"]]\n",
    "    source = temp_route_mapping_df.iloc[i][[\"LATITUDE_S\", \"LONGITUDE_S\"]]\n",
    "\n",
    "    theta = 30\n",
    "    theta = np.radians(theta)\n",
    "    c = 0.3\n",
    "    phi = np.arctan2(dest[1] - source[1], dest[0] - source[0])\n",
    "\n",
    "\n",
    "\n",
    "\n",
    "\n",
    "    templat1 = dest[0] - c*np.cos(phi - theta)\n",
    "    templong1 = dest[1] - c*np.sin(phi - theta)\n",
    "    templat2 = dest[0] - c*np.cos(phi + theta)\n",
    "    templong2 = dest[1] - c*np.sin(phi + theta)\n",
    "\n",
    "    fig.add_trace(go.Scattermapbox(lat=[source[0]], lon=[source[1]], mode = \"markers\", marker=go.scattermapbox.Marker(size=20, color=\"blue\", opacity=0.7)))\n",
    "    fig.add_trace(go.Scattermapbox(lat=[dest[0]], lon=[dest[1]], mode = \"markers\", marker=go.scattermapbox.Marker(size=15, color=\"green\")))\n",
    "    fig.add_trace(go.Scattermapbox(lat=[source[0], dest[0]], lon=[source[1], dest[1]], mode=\"lines\", line=go.scattermapbox.Line(width=2, color=\"black\")))\n",
    "\n",
    "    fig.add_trace(go.Scattermapbox(lat=[templat1, dest[0]], lon=[templong1, dest[1]], mode=\"lines\", line=go.scattermapbox.Line(width=2, color=\"black\")))\n",
    "    fig.add_trace(go.Scattermapbox(lat=[templat2, dest[0]], lon=[templong2, dest[1]], mode=\"lines\", line=go.scattermapbox.Line(width=2, color=\"black\")))\n",
    "\n",
    "\n",
    "fig.update_layout(mapbox_style=\"open-street-map\", title = f\"Top 10 routes ({ROUTE_MAPPING_VAR})\", width=1000, height=1000, showlegend=False)\n",
    "fig.update_layout(mapbox={\"layers\":[\n",
    "            {\n",
    "                \"source\": india_geojson[\"geometry\"].__geo_interface__,\n",
    "                \"type\": \"line\",\n",
    "                \"color\": \"black\",\n",
    "                \"line\": {\"width\": 0.5},\n",
    "            }\n",
    "        ]})\n",
    "fig.show()"
   ]
  },
  {
   "cell_type": "code",
   "execution_count": null,
   "metadata": {},
   "outputs": [],
   "source": [
    "\n",
    "TOP_NUM = 10\n",
    "\n",
    "fig = go.Figure()\n",
    "ROUTE_MAPPING_VAR = \"REL_WRT_S\"\n",
    "temp_route_mapping_df = route_mapping_df_filtered.sort_values(ROUTE_MAPPING_VAR, ascending=False)\n",
    "for i in range(TOP_NUM):\n",
    "    dest_cluster = temp_route_mapping_df.iloc[i][\"CLUSTER\"]\n",
    "    source_cluster = temp_route_mapping_df.iloc[i][\"LOCAL CLUSTER\"]\n",
    "    dest = temp_route_mapping_df.iloc[i][[\"LATITUDE_D\", \"LONGITUDE_D\"]]\n",
    "    source = temp_route_mapping_df.iloc[i][[\"LATITUDE_S\", \"LONGITUDE_S\"]]\n",
    "\n",
    "    theta = 30\n",
    "    theta = np.radians(theta)\n",
    "    c = 0.3\n",
    "    phi = np.arctan2(dest[1] - source[1], dest[0] - source[0])\n",
    "\n",
    "\n",
    "\n",
    "\n",
    "\n",
    "    templat1 = dest[0] - c*np.cos(phi - theta)\n",
    "    templong1 = dest[1] - c*np.sin(phi - theta)\n",
    "    templat2 = dest[0] - c*np.cos(phi + theta)\n",
    "    templong2 = dest[1] - c*np.sin(phi + theta)\n",
    "\n",
    "    fig.add_trace(go.Scattermapbox(lat=[source[0]], lon=[source[1]], mode = \"markers\", marker=go.scattermapbox.Marker(size=20, color=\"blue\", opacity=0.7)))\n",
    "    fig.add_trace(go.Scattermapbox(lat=[dest[0]], lon=[dest[1]], mode = \"markers\", marker=go.scattermapbox.Marker(size=15, color=\"green\")))\n",
    "    fig.add_trace(go.Scattermapbox(lat=[source[0], dest[0]], lon=[source[1], dest[1]], mode=\"lines\", line=go.scattermapbox.Line(width=2, color=\"black\")))\n",
    "\n",
    "    fig.add_trace(go.Scattermapbox(lat=[templat1, dest[0]], lon=[templong1, dest[1]], mode=\"lines\", line=go.scattermapbox.Line(width=2, color=\"black\")))\n",
    "    fig.add_trace(go.Scattermapbox(lat=[templat2, dest[0]], lon=[templong2, dest[1]], mode=\"lines\", line=go.scattermapbox.Line(width=2, color=\"black\")))\n",
    "\n",
    "\n",
    "fig.update_layout(mapbox_style=\"open-street-map\", title = f\"Top 10 routes ({ROUTE_MAPPING_VAR}) filtered\", width=1000, height=1000, showlegend=False)\n",
    "fig.update_layout(mapbox={\"layers\":[\n",
    "            {\n",
    "                \"source\": india_geojson[\"geometry\"].__geo_interface__,\n",
    "                \"type\": \"line\",\n",
    "                \"color\": \"black\",\n",
    "                \"line\": {\"width\": 0.5},\n",
    "            }\n",
    "        ]})\n",
    "fig.show()"
   ]
  },
  {
   "cell_type": "code",
   "execution_count": null,
   "metadata": {},
   "outputs": [],
   "source": [
    "\n",
    "TOP_NUM = 10\n",
    "\n",
    "fig = go.Figure()\n",
    "ROUTE_MAPPING_VAR = \"REL_WRT_LOC\"\n",
    "temp_route_mapping_df = route_mapping_df.sort_values(ROUTE_MAPPING_VAR, ascending=False)\n",
    "for i in range(TOP_NUM):\n",
    "    dest_cluster = temp_route_mapping_df.iloc[i][\"CLUSTER\"]\n",
    "    source_cluster = temp_route_mapping_df.iloc[i][\"LOCAL CLUSTER\"]\n",
    "    dest = temp_route_mapping_df.iloc[i][[\"LATITUDE_D\", \"LONGITUDE_D\"]]\n",
    "    source = temp_route_mapping_df.iloc[i][[\"LATITUDE_S\", \"LONGITUDE_S\"]]\n",
    "\n",
    "    theta = 30\n",
    "    theta = np.radians(theta)\n",
    "    c = 0.3\n",
    "    phi = np.arctan2(dest[1] - source[1], dest[0] - source[0])\n",
    "\n",
    "\n",
    "\n",
    "\n",
    "\n",
    "    templat1 = dest[0] - c*np.cos(phi - theta)\n",
    "    templong1 = dest[1] - c*np.sin(phi - theta)\n",
    "    templat2 = dest[0] - c*np.cos(phi + theta)\n",
    "    templong2 = dest[1] - c*np.sin(phi + theta)\n",
    "\n",
    "    fig.add_trace(go.Scattermapbox(lat=[source[0]], lon=[source[1]], mode = \"markers\", marker=go.scattermapbox.Marker(size=20, color=\"blue\", opacity=0.7)))\n",
    "    fig.add_trace(go.Scattermapbox(lat=[dest[0]], lon=[dest[1]], mode = \"markers\", marker=go.scattermapbox.Marker(size=15, color=\"green\")))\n",
    "    fig.add_trace(go.Scattermapbox(lat=[source[0], dest[0]], lon=[source[1], dest[1]], mode=\"lines\", line=go.scattermapbox.Line(width=2, color=\"black\")))\n",
    "\n",
    "    fig.add_trace(go.Scattermapbox(lat=[templat1, dest[0]], lon=[templong1, dest[1]], mode=\"lines\", line=go.scattermapbox.Line(width=2, color=\"black\")))\n",
    "    fig.add_trace(go.Scattermapbox(lat=[templat2, dest[0]], lon=[templong2, dest[1]], mode=\"lines\", line=go.scattermapbox.Line(width=2, color=\"black\")))\n",
    "\n",
    "\n",
    "fig.update_layout(mapbox_style=\"open-street-map\", title = f\"Top 10 routes ({ROUTE_MAPPING_VAR})\", width=1000, height=1000, showlegend=False)\n",
    "fig.update_layout(mapbox={\"layers\":[\n",
    "            {\n",
    "                \"source\": india_geojson[\"geometry\"].__geo_interface__,\n",
    "                \"type\": \"line\",\n",
    "                \"color\": \"black\",\n",
    "                \"line\": {\"width\": 0.5},\n",
    "            }\n",
    "        ]})\n",
    "fig.show()"
   ]
  },
  {
   "cell_type": "code",
   "execution_count": null,
   "metadata": {},
   "outputs": [],
   "source": [
    "\n",
    "TOP_NUM = 10\n",
    "\n",
    "fig = go.Figure()\n",
    "ROUTE_MAPPING_VAR = \"REL_WRT_LOC\"\n",
    "temp_route_mapping_df = route_mapping_df_filtered.sort_values(ROUTE_MAPPING_VAR, ascending=False)\n",
    "for i in range(TOP_NUM):\n",
    "    dest_cluster = temp_route_mapping_df.iloc[i][\"CLUSTER\"]\n",
    "    source_cluster = temp_route_mapping_df.iloc[i][\"LOCAL CLUSTER\"]\n",
    "    dest = temp_route_mapping_df.iloc[i][[\"LATITUDE_D\", \"LONGITUDE_D\"]]\n",
    "    source = temp_route_mapping_df.iloc[i][[\"LATITUDE_S\", \"LONGITUDE_S\"]]\n",
    "\n",
    "    theta = 30\n",
    "    theta = np.radians(theta)\n",
    "    c = 0.3\n",
    "    phi = np.arctan2(dest[1] - source[1], dest[0] - source[0])\n",
    "\n",
    "\n",
    "\n",
    "\n",
    "\n",
    "    templat1 = dest[0] - c*np.cos(phi - theta)\n",
    "    templong1 = dest[1] - c*np.sin(phi - theta)\n",
    "    templat2 = dest[0] - c*np.cos(phi + theta)\n",
    "    templong2 = dest[1] - c*np.sin(phi + theta)\n",
    "\n",
    "    fig.add_trace(go.Scattermapbox(lat=[source[0]], lon=[source[1]], mode = \"markers\", marker=go.scattermapbox.Marker(size=20, color=\"blue\", opacity=0.7)))\n",
    "    fig.add_trace(go.Scattermapbox(lat=[dest[0]], lon=[dest[1]], mode = \"markers\", marker=go.scattermapbox.Marker(size=15, color=\"green\")))\n",
    "    fig.add_trace(go.Scattermapbox(lat=[source[0], dest[0]], lon=[source[1], dest[1]], mode=\"lines\", line=go.scattermapbox.Line(width=2, color=\"black\")))\n",
    "\n",
    "    fig.add_trace(go.Scattermapbox(lat=[templat1, dest[0]], lon=[templong1, dest[1]], mode=\"lines\", line=go.scattermapbox.Line(width=2, color=\"black\")))\n",
    "    fig.add_trace(go.Scattermapbox(lat=[templat2, dest[0]], lon=[templong2, dest[1]], mode=\"lines\", line=go.scattermapbox.Line(width=2, color=\"black\")))\n",
    "\n",
    "\n",
    "fig.update_layout(mapbox_style=\"open-street-map\", title = f\"Top 10 routes ({ROUTE_MAPPING_VAR}) filtered\", width=1000, height=1000, showlegend=False)\n",
    "fig.update_layout(mapbox={\"layers\":[\n",
    "            {\n",
    "                \"source\": india_geojson[\"geometry\"].__geo_interface__,\n",
    "                \"type\": \"line\",\n",
    "                \"color\": \"black\",\n",
    "                \"line\": {\"width\": 0.5},\n",
    "            }\n",
    "        ]})\n",
    "fig.show()"
   ]
  },
  {
   "cell_type": "code",
   "execution_count": null,
   "metadata": {},
   "outputs": [],
   "source": [
    "\n",
    "TOP_NUM = 10\n",
    "\n",
    "fig = go.Figure()\n",
    "ROUTE_MAPPING_VAR = \"REL_WRT_TOUR\"\n",
    "temp_route_mapping_df = route_mapping_df.sort_values(ROUTE_MAPPING_VAR, ascending=False)\n",
    "for i in range(TOP_NUM):\n",
    "    dest_cluster = temp_route_mapping_df.iloc[i][\"CLUSTER\"]\n",
    "    source_cluster = temp_route_mapping_df.iloc[i][\"LOCAL CLUSTER\"]\n",
    "    dest = temp_route_mapping_df.iloc[i][[\"LATITUDE_D\", \"LONGITUDE_D\"]]\n",
    "    source = temp_route_mapping_df.iloc[i][[\"LATITUDE_S\", \"LONGITUDE_S\"]]\n",
    "\n",
    "    theta = 30\n",
    "    theta = np.radians(theta)\n",
    "    c = 0.3\n",
    "    phi = np.arctan2(dest[1] - source[1], dest[0] - source[0])\n",
    "\n",
    "\n",
    "\n",
    "\n",
    "\n",
    "    templat1 = dest[0] - c*np.cos(phi - theta)\n",
    "    templong1 = dest[1] - c*np.sin(phi - theta)\n",
    "    templat2 = dest[0] - c*np.cos(phi + theta)\n",
    "    templong2 = dest[1] - c*np.sin(phi + theta)\n",
    "\n",
    "    fig.add_trace(go.Scattermapbox(lat=[source[0]], lon=[source[1]], mode = \"markers\", marker=go.scattermapbox.Marker(size=20, color=\"blue\", opacity=0.7)))\n",
    "    fig.add_trace(go.Scattermapbox(lat=[dest[0]], lon=[dest[1]], mode = \"markers\", marker=go.scattermapbox.Marker(size=15, color=\"green\")))\n",
    "    fig.add_trace(go.Scattermapbox(lat=[source[0], dest[0]], lon=[source[1], dest[1]], mode=\"lines\", line=go.scattermapbox.Line(width=2, color=\"black\")))\n",
    "\n",
    "    fig.add_trace(go.Scattermapbox(lat=[templat1, dest[0]], lon=[templong1, dest[1]], mode=\"lines\", line=go.scattermapbox.Line(width=2, color=\"black\")))\n",
    "    fig.add_trace(go.Scattermapbox(lat=[templat2, dest[0]], lon=[templong2, dest[1]], mode=\"lines\", line=go.scattermapbox.Line(width=2, color=\"black\")))\n",
    "\n",
    "\n",
    "fig.update_layout(mapbox_style=\"open-street-map\", title = f\"Top 10 routes ({ROUTE_MAPPING_VAR})\", width=1000, height=1000, showlegend=False)\n",
    "fig.update_layout(mapbox={\"layers\":[\n",
    "            {\n",
    "                \"source\": india_geojson[\"geometry\"].__geo_interface__,\n",
    "                \"type\": \"line\",\n",
    "                \"color\": \"black\",\n",
    "                \"line\": {\"width\": 0.5},\n",
    "            }\n",
    "        ]})\n",
    "fig.show()"
   ]
  },
  {
   "cell_type": "code",
   "execution_count": null,
   "metadata": {},
   "outputs": [],
   "source": [
    "\n",
    "TOP_NUM = 10\n",
    "\n",
    "fig = go.Figure()\n",
    "ROUTE_MAPPING_VAR = \"REL_WRT_TOUR\"\n",
    "temp_route_mapping_df = route_mapping_df_filtered.sort_values(ROUTE_MAPPING_VAR, ascending=False)\n",
    "for i in range(TOP_NUM):\n",
    "    dest_cluster = temp_route_mapping_df.iloc[i][\"CLUSTER\"]\n",
    "    source_cluster = temp_route_mapping_df.iloc[i][\"LOCAL CLUSTER\"]\n",
    "    dest = temp_route_mapping_df.iloc[i][[\"LATITUDE_D\", \"LONGITUDE_D\"]]\n",
    "    source = temp_route_mapping_df.iloc[i][[\"LATITUDE_S\", \"LONGITUDE_S\"]]\n",
    "\n",
    "    theta = 30\n",
    "    theta = np.radians(theta)\n",
    "    c = 0.3\n",
    "    phi = np.arctan2(dest[1] - source[1], dest[0] - source[0])\n",
    "\n",
    "\n",
    "\n",
    "\n",
    "\n",
    "    templat1 = dest[0] - c*np.cos(phi - theta)\n",
    "    templong1 = dest[1] - c*np.sin(phi - theta)\n",
    "    templat2 = dest[0] - c*np.cos(phi + theta)\n",
    "    templong2 = dest[1] - c*np.sin(phi + theta)\n",
    "\n",
    "    fig.add_trace(go.Scattermapbox(lat=[source[0]], lon=[source[1]], mode = \"markers\", marker=go.scattermapbox.Marker(size=20, color=\"blue\", opacity=0.7)))\n",
    "    fig.add_trace(go.Scattermapbox(lat=[dest[0]], lon=[dest[1]], mode = \"markers\", marker=go.scattermapbox.Marker(size=15, color=\"green\")))\n",
    "    fig.add_trace(go.Scattermapbox(lat=[source[0], dest[0]], lon=[source[1], dest[1]], mode=\"lines\", line=go.scattermapbox.Line(width=2, color=\"black\")))\n",
    "\n",
    "    fig.add_trace(go.Scattermapbox(lat=[templat1, dest[0]], lon=[templong1, dest[1]], mode=\"lines\", line=go.scattermapbox.Line(width=2, color=\"black\")))\n",
    "    fig.add_trace(go.Scattermapbox(lat=[templat2, dest[0]], lon=[templong2, dest[1]], mode=\"lines\", line=go.scattermapbox.Line(width=2, color=\"black\")))\n",
    "\n",
    "\n",
    "fig.update_layout(mapbox_style=\"open-street-map\", title = f\"Top 10 routes ({ROUTE_MAPPING_VAR}) filtered\", width=1000, height=1000, showlegend=False)\n",
    "fig.update_layout(mapbox={\"layers\":[\n",
    "            {\n",
    "                \"source\": india_geojson[\"geometry\"].__geo_interface__,\n",
    "                \"type\": \"line\",\n",
    "                \"color\": \"black\",\n",
    "                \"line\": {\"width\": 0.5},\n",
    "            }\n",
    "        ]})\n",
    "fig.show()"
   ]
  },
  {
   "cell_type": "code",
   "execution_count": null,
   "metadata": {},
   "outputs": [],
   "source": [
    "\n",
    "TOP_NUM = 10\n",
    "\n",
    "fig = go.Figure()\n",
    "ROUTE_MAPPING_VAR = \"REL_WRT_TOUR_LOC\"\n",
    "temp_route_mapping_df = route_mapping_df.sort_values(ROUTE_MAPPING_VAR, ascending=False)\n",
    "for i in range(TOP_NUM):\n",
    "    dest_cluster = temp_route_mapping_df.iloc[i][\"CLUSTER\"]\n",
    "    source_cluster = temp_route_mapping_df.iloc[i][\"LOCAL CLUSTER\"]\n",
    "    dest = temp_route_mapping_df.iloc[i][[\"LATITUDE_D\", \"LONGITUDE_D\"]]\n",
    "    source = temp_route_mapping_df.iloc[i][[\"LATITUDE_S\", \"LONGITUDE_S\"]]\n",
    "\n",
    "    theta = 30\n",
    "    theta = np.radians(theta)\n",
    "    c = 0.3\n",
    "    phi = np.arctan2(dest[1] - source[1], dest[0] - source[0])\n",
    "\n",
    "\n",
    "\n",
    "\n",
    "\n",
    "    templat1 = dest[0] - c*np.cos(phi - theta)\n",
    "    templong1 = dest[1] - c*np.sin(phi - theta)\n",
    "    templat2 = dest[0] - c*np.cos(phi + theta)\n",
    "    templong2 = dest[1] - c*np.sin(phi + theta)\n",
    "\n",
    "    fig.add_trace(go.Scattermapbox(lat=[source[0]], lon=[source[1]], mode = \"markers\", marker=go.scattermapbox.Marker(size=20, color=\"blue\", opacity=0.7)))\n",
    "    fig.add_trace(go.Scattermapbox(lat=[dest[0]], lon=[dest[1]], mode = \"markers\", marker=go.scattermapbox.Marker(size=15, color=\"green\")))\n",
    "    fig.add_trace(go.Scattermapbox(lat=[source[0], dest[0]], lon=[source[1], dest[1]], mode=\"lines\", line=go.scattermapbox.Line(width=2, color=\"black\")))\n",
    "\n",
    "    fig.add_trace(go.Scattermapbox(lat=[templat1, dest[0]], lon=[templong1, dest[1]], mode=\"lines\", line=go.scattermapbox.Line(width=2, color=\"black\")))\n",
    "    fig.add_trace(go.Scattermapbox(lat=[templat2, dest[0]], lon=[templong2, dest[1]], mode=\"lines\", line=go.scattermapbox.Line(width=2, color=\"black\")))\n",
    "\n",
    "\n",
    "fig.update_layout(mapbox_style=\"open-street-map\", title = f\"Top 10 routes ({ROUTE_MAPPING_VAR})\", width=1000, height=1000, showlegend=False)\n",
    "fig.update_layout(mapbox={\"layers\":[\n",
    "            {\n",
    "                \"source\": india_geojson[\"geometry\"].__geo_interface__,\n",
    "                \"type\": \"line\",\n",
    "                \"color\": \"black\",\n",
    "                \"line\": {\"width\": 0.5},\n",
    "            }\n",
    "        ]})\n",
    "fig.show()"
   ]
  },
  {
   "cell_type": "code",
   "execution_count": null,
   "metadata": {},
   "outputs": [],
   "source": [
    "\n",
    "TOP_NUM = 10\n",
    "\n",
    "fig = go.Figure()\n",
    "ROUTE_MAPPING_VAR = \"REL_WRT_TOUR_LOC\"\n",
    "temp_route_mapping_df = route_mapping_df_filtered.sort_values(ROUTE_MAPPING_VAR, ascending=False)\n",
    "for i in range(TOP_NUM):\n",
    "    dest_cluster = temp_route_mapping_df.iloc[i][\"CLUSTER\"]\n",
    "    source_cluster = temp_route_mapping_df.iloc[i][\"LOCAL CLUSTER\"]\n",
    "    dest = temp_route_mapping_df.iloc[i][[\"LATITUDE_D\", \"LONGITUDE_D\"]]\n",
    "    source = temp_route_mapping_df.iloc[i][[\"LATITUDE_S\", \"LONGITUDE_S\"]]\n",
    "\n",
    "    theta = 30\n",
    "    theta = np.radians(theta)\n",
    "    c = 0.3\n",
    "    phi = np.arctan2(dest[1] - source[1], dest[0] - source[0])\n",
    "\n",
    "\n",
    "\n",
    "\n",
    "\n",
    "    templat1 = dest[0] - c*np.cos(phi - theta)\n",
    "    templong1 = dest[1] - c*np.sin(phi - theta)\n",
    "    templat2 = dest[0] - c*np.cos(phi + theta)\n",
    "    templong2 = dest[1] - c*np.sin(phi + theta)\n",
    "\n",
    "    fig.add_trace(go.Scattermapbox(lat=[source[0]], lon=[source[1]], mode = \"markers\", marker=go.scattermapbox.Marker(size=20, color=\"blue\", opacity=0.7)))\n",
    "    fig.add_trace(go.Scattermapbox(lat=[dest[0]], lon=[dest[1]], mode = \"markers\", marker=go.scattermapbox.Marker(size=15, color=\"green\")))\n",
    "    fig.add_trace(go.Scattermapbox(lat=[source[0], dest[0]], lon=[source[1], dest[1]], mode=\"lines\", line=go.scattermapbox.Line(width=2, color=\"black\")))\n",
    "\n",
    "    fig.add_trace(go.Scattermapbox(lat=[templat1, dest[0]], lon=[templong1, dest[1]], mode=\"lines\", line=go.scattermapbox.Line(width=2, color=\"black\")))\n",
    "    fig.add_trace(go.Scattermapbox(lat=[templat2, dest[0]], lon=[templong2, dest[1]], mode=\"lines\", line=go.scattermapbox.Line(width=2, color=\"black\")))\n",
    "\n",
    "\n",
    "fig.update_layout(mapbox_style=\"open-street-map\", title = f\"Top 10 routes ({ROUTE_MAPPING_VAR}) filtered\", width=1000, height=1000, showlegend=False)\n",
    "fig.update_layout(mapbox={\"layers\":[\n",
    "            {\n",
    "                \"source\": india_geojson[\"geometry\"].__geo_interface__,\n",
    "                \"type\": \"line\",\n",
    "                \"color\": \"black\",\n",
    "                \"line\": {\"width\": 0.5},\n",
    "            }\n",
    "        ]})\n",
    "fig.show()"
   ]
  },
  {
   "cell_type": "markdown",
   "metadata": {},
   "source": [
    "# ROUTE ANALYSIS"
   ]
  },
  {
   "cell_type": "code",
   "execution_count": null,
   "metadata": {},
   "outputs": [],
   "source": [
    "change_df = data_df.dropna()[data_df.dropna()[\"CLUSTER\"].astype(int) != data_df.dropna()[\"NEXT CLUSTER\"].astype(int)]"
   ]
  },
  {
   "cell_type": "code",
   "execution_count": null,
   "metadata": {},
   "outputs": [],
   "source": [
    "change_df = change_df.groupby([\"CLUSTER\", \"NEXT CLUSTER\"]).size().reset_index(name=\"COUNT\").sort_values(\"COUNT\", ascending=False)"
   ]
  },
  {
   "cell_type": "code",
   "execution_count": null,
   "metadata": {},
   "outputs": [],
   "source": [
    "change_df = change_df[change_df[\"COUNT\"]>50]"
   ]
  },
  {
   "cell_type": "code",
   "execution_count": null,
   "metadata": {},
   "outputs": [],
   "source": [
    "change_df = change_df.merge(cluster_centers_df, left_on=\"CLUSTER\", right_on=\"CLUSTER\", how=\"left\")\n",
    "change_df = change_df.merge(cluster_centers_df, left_on=\"NEXT CLUSTER\", right_on=\"CLUSTER\", how=\"left\")"
   ]
  },
  {
   "cell_type": "code",
   "execution_count": null,
   "metadata": {},
   "outputs": [],
   "source": [
    "change_df.drop([\"CLUSTER_y\"], axis=1, inplace=True)\n",
    "change_df.columns = [\"CLUSTER\", \"NEXT CLUSTER\", \"COUNT\", \"LATITUDE_1\", \"LONGITUDE_1\", \"LATITUDE_2\", \"LONGITUDE_2\"]"
   ]
  },
  {
   "cell_type": "code",
   "execution_count": null,
   "metadata": {},
   "outputs": [],
   "source": [
    "cluster_counts = data_df.groupby(\"CLUSTER\").size().reset_index(name=\"COUNT\")"
   ]
  },
  {
   "cell_type": "code",
   "execution_count": null,
   "metadata": {},
   "outputs": [],
   "source": [
    "change_df[\"NCOUNT\"] = change_df[\"CLUSTER\"].apply(lambda x: cluster_counts[cluster_counts[\"CLUSTER\"]==x][\"COUNT\"].values[0])"
   ]
  },
  {
   "cell_type": "code",
   "execution_count": null,
   "metadata": {},
   "outputs": [],
   "source": []
  },
  {
   "cell_type": "code",
   "execution_count": null,
   "metadata": {},
   "outputs": [],
   "source": [
    "master_graph = nx.DiGraph()\n",
    "#nx.set_node_attributes(master_graph, cluster_centers_df.set_index(\"CLUSTER\").to_dict(orient=\"index\"))\n",
    "def add_edge(row):\n",
    "    master_graph.add_edge(row[\"CLUSTER\"], row[\"NEXT CLUSTER\"], weight=row[\"COUNT\"])\n",
    "\n",
    "    master_graph.nodes[row[\"CLUSTER\"]][\"LATITUDE\"] = row[\"LATITUDE_1\"]\n",
    "    master_graph.nodes[row[\"CLUSTER\"]][\"LONGITUDE\"] = row[\"LONGITUDE_1\"]\n",
    "    master_graph.nodes[row[\"NEXT CLUSTER\"]][\"LATITUDE\"] = row[\"LATITUDE_2\"]\n",
    "    master_graph.nodes[row[\"NEXT CLUSTER\"]][\"LONGITUDE\"] = row[\"LONGITUDE_2\"]\n",
    "    master_graph.nodes[row[\"CLUSTER\"]][\"COUNT\"] = row[\"NCOUNT\"]\n",
    "    master_graph.edges[row[\"CLUSTER\"], row[\"NEXT CLUSTER\"]][\"COUNT\"] = row[\"COUNT\"]\n",
    "    "
   ]
  },
  {
   "cell_type": "code",
   "execution_count": null,
   "metadata": {},
   "outputs": [],
   "source": [
    "change_df.apply(add_edge, axis=1)"
   ]
  },
  {
   "cell_type": "code",
   "execution_count": null,
   "metadata": {},
   "outputs": [],
   "source": [
    "nx.write_gml(master_graph, \"master_graph.gml\")"
   ]
  },
  {
   "cell_type": "code",
   "execution_count": null,
   "metadata": {},
   "outputs": [],
   "source": [
    "degree_df = pd.DataFrame(list(master_graph.degree(weight=\"COUNT\")))\n",
    "degree_df.columns = [\"CLUSTER\", \"DEGREE\"]\n",
    "degree_df[\"INDEGREE\"] = degree_df[\"CLUSTER\"].apply(lambda x: master_graph.in_degree(x, weight=\"COUNT\"))\n",
    "degree_df[\"OUTDEGREE\"] = degree_df[\"CLUSTER\"].apply(lambda x: master_graph.out_degree(x, weight=\"COUNT\"))\n"
   ]
  },
  {
   "cell_type": "code",
   "execution_count": null,
   "metadata": {},
   "outputs": [],
   "source": [
    "graphprop_df = degree_df.merge(cluster_centers_df, on=\"CLUSTER\", how=\"left\")"
   ]
  },
  {
   "cell_type": "code",
   "execution_count": null,
   "metadata": {},
   "outputs": [],
   "source": [
    "node_between_df = pd.DataFrame(nx.betweenness_centrality(master_graph, weight=\"COUNT\").items())\n",
    "node_between_df.columns = [\"CLUSTER\", \"BETWEENNESS\"]\n",
    "graphprop_df = graphprop_df.merge(node_between_df, on=\"CLUSTER\", how=\"left\")"
   ]
  },
  {
   "cell_type": "code",
   "execution_count": null,
   "metadata": {},
   "outputs": [],
   "source": [
    "graphprop_df.sort_values(\"BETWEENNESS\", ascending=False)"
   ]
  },
  {
   "cell_type": "code",
   "execution_count": null,
   "metadata": {},
   "outputs": [],
   "source": [
    "fig = px.scatter_mapbox(graphprop_df.sort_values(\"DEGREE\", ascending=False).head(20), lat=\"LATITUDE\", lon=\"LONGITUDE\", size=\"DEGREE\", color=\"BETWEENNESS\",hover_name=\"CLUSTER\", zoom=3, title= \"TOP DEGREE\")\n",
    "fig.update_layout(mapbox_style=\"open-street-map\", width=1000, height=1000)\n",
    "fig.update_layout(mapbox={\"layers\":[\n",
    "            {\n",
    "                \"source\": india_geojson[\"geometry\"].__geo_interface__,\n",
    "                \"type\": \"line\",\n",
    "                \"color\": \"black\",\n",
    "                \"line\": {\"width\": 0.5},\n",
    "            }\n",
    "        ]})"
   ]
  },
  {
   "cell_type": "code",
   "execution_count": null,
   "metadata": {},
   "outputs": [],
   "source": [
    "fig = px.scatter_mapbox(graphprop_df.sort_values(\"BETWEENNESS\", ascending=False).head(20), lat=\"LATITUDE\", lon=\"LONGITUDE\", size=\"BETWEENNESS\", color=\"DEGREE\",hover_name=\"CLUSTER\", zoom=3, title= \"TOP BETWEENNESS\")\n",
    "fig.update_layout(mapbox_style=\"open-street-map\", width=1000, height=1000)\n",
    "fig.update_layout(mapbox={\"layers\":[\n",
    "            {\n",
    "                \"source\": india_geojson[\"geometry\"].__geo_interface__,\n",
    "                \"type\": \"line\",\n",
    "                \"color\": \"black\",\n",
    "                \"line\": {\"width\": 0.5},\n",
    "            }\n",
    "        ]})"
   ]
  },
  {
   "cell_type": "code",
   "execution_count": null,
   "metadata": {},
   "outputs": [],
   "source": [
    "betweennessdict = nx.edge_betweenness_centrality(master_graph)\n",
    "\n",
    "change_df[\"BETWEENNESS\"] = change_df.apply(lambda x: betweennessdict[(x[\"CLUSTER\"], x[\"NEXT CLUSTER\"])], axis=1)"
   ]
  },
  {
   "cell_type": "code",
   "execution_count": null,
   "metadata": {},
   "outputs": [],
   "source": [
    "change_df.sort_values(\"BETWEENNESS\", ascending=False)"
   ]
  },
  {
   "cell_type": "code",
   "execution_count": null,
   "metadata": {},
   "outputs": [],
   "source": [
    "change_df[\"DISTANCE\"] = change_df.apply(lambda x: haversine(x[\"LATITUDE_1\"], x[\"LONGITUDE_1\"], x[\"LATITUDE_2\"], x[\"LONGITUDE_2\"]), axis=1)\n",
    "\n",
    "change_df[\"DISTANCE\"] = change_df[\"DISTANCE\"] * 6371"
   ]
  },
  {
   "cell_type": "code",
   "execution_count": null,
   "metadata": {},
   "outputs": [],
   "source": [
    "change_df[\"DISTANCE\"].describe()"
   ]
  },
  {
   "cell_type": "code",
   "execution_count": null,
   "metadata": {},
   "outputs": [],
   "source": [
    "TOP_NUM = 40\n",
    "fig = go.Figure()\n",
    "temp_route_mapping_df = change_df.sort_values(\"COUNT\", ascending=False)\n",
    "\n",
    "for i in range(TOP_NUM):\n",
    "    dest_cluster = temp_route_mapping_df.iloc[i][\"NEXT CLUSTER\"]\n",
    "    source_cluster = temp_route_mapping_df.iloc[i][\"CLUSTER\"]\n",
    "    dest = temp_route_mapping_df.iloc[i][[\"LATITUDE_2\", \"LONGITUDE_2\"]]\n",
    "    source = temp_route_mapping_df.iloc[i][[\"LATITUDE_1\", \"LONGITUDE_1\"]]\n",
    "\n",
    "    theta = 30\n",
    "    theta = np.radians(theta)\n",
    "    c = 0.3\n",
    "    phi = np.arctan2(dest[1] - source[1], dest[0] - source[0])\n",
    "\n",
    "\n",
    "\n",
    "\n",
    "\n",
    "    templat1 = dest[0] - c*np.cos(phi - theta)\n",
    "    templong1 = dest[1] - c*np.sin(phi - theta)\n",
    "    templat2 = dest[0] - c*np.cos(phi + theta)\n",
    "    templong2 = dest[1] - c*np.sin(phi + theta)\n",
    "\n",
    "    fig.add_trace(go.Scattermapbox(lat=[source[0]], lon=[source[1]], mode = \"markers\", marker=go.scattermapbox.Marker(size=20, color=\"blue\", opacity=0.7)))\n",
    "    fig.add_trace(go.Scattermapbox(lat=[dest[0]], lon=[dest[1]], mode = \"markers\", marker=go.scattermapbox.Marker(size=15, color=\"green\")))\n",
    "    fig.add_trace(go.Scattermapbox(lat=[source[0], dest[0]], lon=[source[1], dest[1]], mode=\"lines\", line=go.scattermapbox.Line(width=2, color=\"black\")))\n",
    "\n",
    "    fig.add_trace(go.Scattermapbox(lat=[templat1, dest[0]], lon=[templong1, dest[1]], mode=\"lines\", line=go.scattermapbox.Line(width=2, color=\"black\")))\n",
    "    fig.add_trace(go.Scattermapbox(lat=[templat2, dest[0]], lon=[templong2, dest[1]], mode=\"lines\", line=go.scattermapbox.Line(width=2, color=\"black\")))\n",
    "\n",
    "\n",
    "fig.update_layout(mapbox_style=\"open-street-map\", title = f\"Top {TOP_NUM} immediate routes (COUNT)\", width=1000, height=1000, showlegend=False)\n",
    "fig.update_layout(mapbox={\"layers\":[\n",
    "            {\n",
    "                \"source\": india_geojson[\"geometry\"].__geo_interface__,\n",
    "                \"type\": \"line\",\n",
    "                \"color\": \"black\",\n",
    "                \"line\": {\"width\": 0.5},\n",
    "            }\n",
    "        ]})\n",
    "fig.show()"
   ]
  },
  {
   "cell_type": "code",
   "execution_count": null,
   "metadata": {},
   "outputs": [],
   "source": [
    "TOP_NUM = 30\n",
    "fig = go.Figure()\n",
    "temp_route_mapping_df = change_df[change_df[\"DISTANCE\"]>200].sort_values(\"COUNT\", ascending=False)\n",
    "\n",
    "for i in range(TOP_NUM):\n",
    "    dest_cluster = temp_route_mapping_df.iloc[i][\"NEXT CLUSTER\"]\n",
    "    source_cluster = temp_route_mapping_df.iloc[i][\"CLUSTER\"]\n",
    "    dest = temp_route_mapping_df.iloc[i][[\"LATITUDE_2\", \"LONGITUDE_2\"]]\n",
    "    source = temp_route_mapping_df.iloc[i][[\"LATITUDE_1\", \"LONGITUDE_1\"]]\n",
    "\n",
    "    theta = 30\n",
    "    theta = np.radians(theta)\n",
    "    c = 0.3\n",
    "    phi = np.arctan2(dest[1] - source[1], dest[0] - source[0])\n",
    "\n",
    "\n",
    "\n",
    "\n",
    "\n",
    "    templat1 = dest[0] - c*np.cos(phi - theta)\n",
    "    templong1 = dest[1] - c*np.sin(phi - theta)\n",
    "    templat2 = dest[0] - c*np.cos(phi + theta)\n",
    "    templong2 = dest[1] - c*np.sin(phi + theta)\n",
    "\n",
    "    fig.add_trace(go.Scattermapbox(lat=[source[0]], lon=[source[1]], mode = \"markers\", marker=go.scattermapbox.Marker(size=20, color=\"blue\", opacity=0.7)))\n",
    "    fig.add_trace(go.Scattermapbox(lat=[dest[0]], lon=[dest[1]], mode = \"markers\", marker=go.scattermapbox.Marker(size=15, color=\"green\")))\n",
    "    fig.add_trace(go.Scattermapbox(lat=[source[0], dest[0]], lon=[source[1], dest[1]], mode=\"lines\", line=go.scattermapbox.Line(width=2, color=\"black\")))\n",
    "\n",
    "    fig.add_trace(go.Scattermapbox(lat=[templat1, dest[0]], lon=[templong1, dest[1]], mode=\"lines\", line=go.scattermapbox.Line(width=2, color=\"black\")))\n",
    "    fig.add_trace(go.Scattermapbox(lat=[templat2, dest[0]], lon=[templong2, dest[1]], mode=\"lines\", line=go.scattermapbox.Line(width=2, color=\"black\")))\n",
    "\n",
    "\n",
    "fig.update_layout(mapbox_style=\"open-street-map\", title = f\"Top {TOP_NUM} immediate routes (COUNT) filtered\", width=1000, height=1000, showlegend=False)\n",
    "fig.update_layout(mapbox={\"layers\":[\n",
    "            {\n",
    "                \"source\": india_geojson[\"geometry\"].__geo_interface__,\n",
    "                \"type\": \"line\",\n",
    "                \"color\": \"black\",\n",
    "                \"line\": {\"width\": 0.5},\n",
    "            }\n",
    "        ]})\n",
    "fig.show()"
   ]
  },
  {
   "cell_type": "code",
   "execution_count": null,
   "metadata": {},
   "outputs": [],
   "source": [
    "filtered_master_graph = nx.DiGraph()\n",
    "\n",
    "for edge in master_graph.edges(data=True):\n",
    "    if edge[2][\"weight\"]>500:\n",
    "        filtered_master_graph.add_edge(edge[0], edge[1], weight=edge[2][\"weight\"])\n"
   ]
  },
  {
   "cell_type": "code",
   "execution_count": null,
   "metadata": {},
   "outputs": [],
   "source": [
    "comp = nx.community.louvain_communities(master_graph, seed=0, resolution=1.9, weight=\"COUNT\")"
   ]
  },
  {
   "cell_type": "code",
   "execution_count": null,
   "metadata": {},
   "outputs": [],
   "source": [
    "community_df = []\n",
    "for i,v in enumerate(comp):\n",
    "    for c in v:\n",
    "        community_df.append({\"CLUSTER\": c, \"COMMUNITY\": i})\n",
    "\n",
    "community_df = pd.DataFrame(community_df)\n",
    "\n",
    "community_df = community_df.merge(cluster_centers_df, on=\"CLUSTER\", how=\"left\")\n",
    "\n",
    "community_df[\"CLUSTER\"] = community_df[\"CLUSTER\"].astype('category')\n",
    "community_df[\"COMMUNITY\"] = community_df[\"COMMUNITY\"].astype('category')"
   ]
  },
  {
   "cell_type": "code",
   "execution_count": null,
   "metadata": {},
   "outputs": [],
   "source": []
  },
  {
   "cell_type": "code",
   "execution_count": null,
   "metadata": {},
   "outputs": [],
   "source": [
    "fig = px.scatter_mapbox(community_df, lat=\"LATITUDE\", lon=\"LONGITUDE\", color=\"COMMUNITY\", title=\"Communities\", zoom=2, )\n",
    "fig.update_layout(mapbox_style=\"open-street-map\", width=1000, height=1000)\n",
    "\n",
    "fig.show()"
   ]
  },
  {
   "cell_type": "code",
   "execution_count": null,
   "metadata": {},
   "outputs": [],
   "source": [
    "# observer_graph = nx.Graph()\n",
    "\n",
    "# observer_graph.add_nodes_from(data_df[\"OBSERVER ID\"].unique())\n",
    "# def addgrouptograph(df):\n",
    "#     for i in range(len(df)):\n",
    "#         for j in range(i+1, len(df)):\n",
    "#             if observer_graph.has_edge(df.iloc[i], df.iloc[j]):\n",
    "#                 observer_graph.edges[df.iloc[i], df.iloc[j]][\"weight\"] += 1\n",
    "#             else:\n",
    "#                 observer_graph.add_edge(df.iloc[i], df.iloc[j], weight=1)\n",
    "# obgraphdf = data_df[data_df[\"GROUP IDENTIFIER\"] != \"No Group\"]\n",
    "# obgraphdf = obgraphdf[obgraphdf[\"NUMLIST\"]>200]\n",
    "# obgraphdf.groupby(\"GROUP IDENTIFIER\")[\"OBSERVER ID\"].apply(addgrouptograph)\n",
    "# nx.write_gml(observer_graph, \"observer_graph.gml\")"
   ]
  },
  {
   "cell_type": "markdown",
   "metadata": {},
   "source": [
    "# WEALTH ANALYSIS"
   ]
  },
  {
   "cell_type": "code",
   "execution_count": null,
   "metadata": {},
   "outputs": [],
   "source": [
    "wealth_index = pd.read_csv(\"ind_pak_relative_wealth_index.csv\")"
   ]
  },
  {
   "cell_type": "code",
   "execution_count": null,
   "metadata": {},
   "outputs": [],
   "source": [
    "wealth_index[\"latitude truncated\"] = wealth_index[\"latitude\"].apply(lambda x: round(x, 1))\n",
    "wealth_index[\"longitude truncated\"] = wealth_index[\"longitude\"].apply(lambda x: round(x, 1))\n",
    "wealth_index.drop([\"latitude\", \"longitude\"], axis=1, inplace=True)\n",
    "wealth_index = wealth_index.groupby([\"latitude truncated\", \"longitude truncated\"]).mean().reset_index()\n",
    "data_df[\"latitude truncated\"] = data_df[\"LATITUDE\"].apply(lambda x: round(x, 1))\n",
    "data_df[\"longitude truncated\"] = data_df[\"LONGITUDE\"].apply(lambda x: round(x, 1))\n",
    "\n",
    "data_df = data_df.merge(wealth_index, left_on=[\"latitude truncated\", \"longitude truncated\"], right_on=[\"latitude truncated\", \"longitude truncated\"], how=\"left\")\n",
    "data_df.drop([\"latitude truncated\", \"longitude truncated\", \"error\"], axis=1, inplace=True)\n",
    "data_df.rename(columns={\"rwi\": \"WEALTH INDEX\"}, inplace=True)\n",
    "data_df.dropna(inplace=True)"
   ]
  },
  {
   "cell_type": "code",
   "execution_count": null,
   "metadata": {},
   "outputs": [],
   "source": [
    "india_pak_mean_wealth = wealth_index[\"rwi\"].mean()\n",
    "birding_mean_wealth = data_df[\"WEALTH INDEX\"].mean()\n",
    "local_birding_mean_wealth = data_df[data_df[\"LOCAL\"] == True][\"WEALTH INDEX\"].mean()\n",
    "tourist_birding_mean_wealth = data_df[data_df[\"LOCAL\"] == False][\"WEALTH INDEX\"].mean()\n",
    "print(\"India and Pakistan mean wealth index: \", round(india_pak_mean_wealth, 4))\n",
    "print(\"Birding mean wealth index: \", round(birding_mean_wealth, 4))\n",
    "print(\"Local birding mean wealth index: \", round(local_birding_mean_wealth, 4))\n",
    "print(\"Tourist birding mean wealth index: \", round(tourist_birding_mean_wealth, 4))"
   ]
  },
  {
   "cell_type": "code",
   "execution_count": null,
   "metadata": {},
   "outputs": [],
   "source": [
    "birding_mean_wealth"
   ]
  },
  {
   "cell_type": "code",
   "execution_count": null,
   "metadata": {},
   "outputs": [],
   "source": [
    "median_wealth_index = {}\n",
    "median_wealth_index[\"india_pak\"] = wealth_index[\"rwi\"].median()\n",
    "median_wealth_index[\"birding\"] = data_df[\"WEALTH INDEX\"].median()\n",
    "median_wealth_index[\"local_birding\"] = data_df[data_df[\"LOCAL\"] == True][\"WEALTH INDEX\"].median()\n",
    "median_wealth_index[\"tourist_birding\"] = data_df[data_df[\"LOCAL\"] == False][\"WEALTH INDEX\"].median()\n",
    "print(\"India and Pakistan median wealth index: \", round(median_wealth_index[\"india_pak\"], 4))\n",
    "print(\"Birding median wealth index: \", round(median_wealth_index[\"birding\"], 4))\n",
    "print(\"Local birding median wealth index: \", round(median_wealth_index[\"local_birding\"], 4))\n",
    "print(\"Tourist birding median wealth index: \", round(median_wealth_index[\"tourist_birding\"], 4))"
   ]
  },
  {
   "cell_type": "code",
   "execution_count": null,
   "metadata": {},
   "outputs": [],
   "source": []
  },
  {
   "cell_type": "code",
   "execution_count": null,
   "metadata": {},
   "outputs": [],
   "source": [
    "plt.figure(figsize=(10,5))\n",
    "plt.bar(median_wealth_index.keys(), median_wealth_index.values())\n",
    "plt.ylabel(\"Median Wealth Index\")\n",
    "plt.title(\"Median Wealth Index of India and Pakistan vs Birding Data\")\n",
    "plt.show()"
   ]
  },
  {
   "cell_type": "code",
   "execution_count": null,
   "metadata": {},
   "outputs": [],
   "source": [
    "data_df"
   ]
  },
  {
   "cell_type": "code",
   "execution_count": null,
   "metadata": {},
   "outputs": [],
   "source": [
    "wealth_local = data_df.groupby(\"CLUSTER\").agg({\"WEALTH INDEX\": \"mean\", \"LOCAL\": \"mean\", \"IS URBAN\":\"mean\"}).sort_values(\"WEALTH INDEX\", ascending=False).dropna().reset_index()"
   ]
  },
  {
   "cell_type": "code",
   "execution_count": null,
   "metadata": {},
   "outputs": [],
   "source": [
    "temp = data_df.groupby(\"CLUSTER\").size().reset_index(name=\"COUNT\").sort_values(\"COUNT\", ascending=False)\n",
    "\n",
    "wealth_local = wealth_local.merge(temp, on=\"CLUSTER\", how=\"left\")"
   ]
  },
  {
   "cell_type": "code",
   "execution_count": null,
   "metadata": {},
   "outputs": [],
   "source": [
    "wealth_local[[\"WEALTH INDEX\", \"LOCAL\", \"COUNT\", \"IS URBAN\"]].corr()"
   ]
  },
  {
   "cell_type": "code",
   "execution_count": null,
   "metadata": {},
   "outputs": [],
   "source": [
    "sns.regplot(data=wealth_local, x=\"WEALTH INDEX\", y=\"LOCAL\")"
   ]
  },
  {
   "cell_type": "code",
   "execution_count": null,
   "metadata": {},
   "outputs": [],
   "source": [
    "fig= px.scatter(wealth_local, x=\"WEALTH INDEX\", y=\"COUNT\", title=\"Wealth Index vs COUNT\", hover_data=\"CLUSTER\")\n",
    "fig.update_yaxes(type=\"log\")\n",
    "fig.show()"
   ]
  },
  {
   "cell_type": "code",
   "execution_count": null,
   "metadata": {},
   "outputs": [],
   "source": [
    "px.scatter(wealth_local[wealth_local['COUNT']>1000], x=\"WEALTH INDEX\", y=\"LOCAL\", title=\"Wealth Index vs Localness\", hover_data=\"CLUSTER\", color=\"IS URBAN\")"
   ]
  },
  {
   "cell_type": "code",
   "execution_count": null,
   "metadata": {},
   "outputs": [],
   "source": [
    "STAT_COUNT = 1000\n",
    "res = stats.pearsonr(wealth_local[wealth_local[\"COUNT\"]>STAT_COUNT][\"WEALTH INDEX\"], wealth_local[wealth_local[\"COUNT\"]>STAT_COUNT][\"COUNT\"])\n",
    "print(res)\n",
    "print(res.confidence_interval(0.9))"
   ]
  },
  {
   "cell_type": "code",
   "execution_count": null,
   "metadata": {},
   "outputs": [],
   "source": [
    "STAT_COUNT = 1000\n",
    "res = stats.pearsonr(wealth_local[wealth_local[\"COUNT\"]>STAT_COUNT][\"WEALTH INDEX\"], wealth_local[wealth_local[\"COUNT\"]>STAT_COUNT][\"LOCAL\"])\n",
    "print(res)\n",
    "print(res.confidence_interval(0.9))"
   ]
  },
  {
   "cell_type": "code",
   "execution_count": null,
   "metadata": {},
   "outputs": [],
   "source": [
    "sns.regplot(data=wealth_local[wealth_local[\"COUNT\"]>1000], x=\"WEALTH INDEX\", y=\"LOCAL\")\n",
    "plt.xlim(-1, 1.5)\n",
    "plt.show()\n"
   ]
  },
  {
   "cell_type": "code",
   "execution_count": null,
   "metadata": {},
   "outputs": [],
   "source": [
    "sns.regplot(data=wealth_local[wealth_local[\"COUNT\"]>10000], x=\"WEALTH INDEX\", y=\"LOCAL\")\n",
    "plt.xlim(-1, 1.5)\n",
    "plt.show()"
   ]
  },
  {
   "cell_type": "code",
   "execution_count": null,
   "metadata": {},
   "outputs": [],
   "source": [
    "sns.regplot(data=wealth_local[wealth_local['COUNT']>100], x=\"WEALTH INDEX\", y=\"COUNT\")\n",
    "plt.yscale(\"log\")"
   ]
  },
  {
   "cell_type": "code",
   "execution_count": null,
   "metadata": {},
   "outputs": [],
   "source": [
    "fig = px.scatter_mapbox(cluster_centers_df[cluster_centers_df[\"CLUSTER\"].isin(wealth_local[wealth_local[\"WEALTH INDEX\"]<0.3][\"CLUSTER\"])], lat=\"LATITUDE\", lon=\"LONGITUDE\", zoom=2, title=\"Wealth Index\")\n",
    "fig.update_layout(mapbox_style=\"open-street-map\", width=1000, height=1000)\n",
    "\n",
    "fig.show()"
   ]
  },
  {
   "cell_type": "code",
   "execution_count": null,
   "metadata": {},
   "outputs": [],
   "source": [
    "from sklearn.linear_model import QuantileRegressor\n"
   ]
  },
  {
   "cell_type": "code",
   "execution_count": null,
   "metadata": {},
   "outputs": [],
   "source": [
    "quantiles = [0.05, 0.5, 0.95]\n",
    "predictions = {}\n",
    "\n",
    "for q in quantiles:\n",
    "    qr = QuantileRegressor(quantile=q, alpha=0 )\n",
    "    qr.fit(wealth_local[wealth_local[\"COUNT\"]>1000][\"WEALTH INDEX\"].values.reshape(-1, 1), wealth_local[wealth_local[\"COUNT\"]>1000][\"LOCAL\"].values)\n",
    "    predictions[q] = qr.predict(wealth_local[wealth_local[\"COUNT\"]>1000][\"WEALTH INDEX\"].values.reshape(-1, 1))\n"
   ]
  },
  {
   "cell_type": "code",
   "execution_count": null,
   "metadata": {},
   "outputs": [],
   "source": [
    "plt.plot(wealth_local[wealth_local[\"COUNT\"]>1000][\"WEALTH INDEX\"], predictions[quantiles[0]], label=f\"{quantiles[0]}\")\n",
    "plt.plot(wealth_local[wealth_local[\"COUNT\"]>1000][\"WEALTH INDEX\"], predictions[quantiles[1]], label=f\"{quantiles[1]}\")\n",
    "plt.plot(wealth_local[wealth_local[\"COUNT\"]>1000][\"WEALTH INDEX\"], predictions[quantiles[2]], label=f\"{quantiles[2]}\")\n",
    "\n",
    "plt.plot(wealth_local[wealth_local[\"COUNT\"]>1000][\"WEALTH INDEX\"], wealth_local[wealth_local[\"COUNT\"]>1000][\"LOCAL\"], \"o\", label=\"Data\", alpha=0.5)\n",
    "\n",
    "plt.xlabel(\"Wealth Index\")\n",
    "plt.ylabel(\"Localness\")\n",
    "plt.title(\"Quantile Regression\")\n",
    "\n",
    "plt.legend()\n",
    "plt.show()\n"
   ]
  },
  {
   "cell_type": "code",
   "execution_count": null,
   "metadata": {},
   "outputs": [],
   "source": [
    "quantiles1 = [0.05, 0.5, 0.95]\n",
    "predictions1 = {}\n",
    "\n",
    "for q in quantiles1:\n",
    "    qr = QuantileRegressor(quantile=q, alpha=0 )\n",
    "    qr.fit(wealth_local[wealth_local[\"COUNT\"]>1000][\"WEALTH INDEX\"].values.reshape(-1, 1), np.log(wealth_local[wealth_local[\"COUNT\"]>1000][\"COUNT\"]).values)\n",
    "    predictions1[q] = qr.predict(wealth_local[wealth_local[\"COUNT\"]>1000][\"WEALTH INDEX\"].values.reshape(-1, 1))\n"
   ]
  },
  {
   "cell_type": "code",
   "execution_count": null,
   "metadata": {},
   "outputs": [],
   "source": [
    "plt.plot(wealth_local[wealth_local[\"COUNT\"]>1000][\"WEALTH INDEX\"], predictions1[quantiles1[0]], label=f\"{quantiles1[0]}\")\n",
    "plt.plot(wealth_local[wealth_local[\"COUNT\"]>1000][\"WEALTH INDEX\"], predictions1[quantiles1[1]], label=f\"{quantiles1[1]}\")\n",
    "plt.plot(wealth_local[wealth_local[\"COUNT\"]>1000][\"WEALTH INDEX\"], predictions1[quantiles1[2]], label=f\"{quantiles1[2]}\")\n",
    "\n",
    "plt.plot(wealth_local[wealth_local[\"COUNT\"]>1000][\"WEALTH INDEX\"], np.log(wealth_local[wealth_local[\"COUNT\"]>1000][\"COUNT\"]), \"o\", label=\"Data\", alpha=0.5)\n",
    "\n",
    "plt.xlabel(\"Wealth Index\")\n",
    "plt.ylabel(\"Count\")\n",
    "plt.title(\"Quantile Regression\")\n",
    "\n",
    "plt.legend()\n",
    "plt.show()\n"
   ]
  },
  {
   "cell_type": "markdown",
   "metadata": {},
   "source": [
    "# URBAN RURAL ANALYSIS"
   ]
  },
  {
   "cell_type": "markdown",
   "metadata": {},
   "source": [
    "Unfortunately only analyse Urban=True, \n",
    "High precision low recall, facebook definition of urban is very thin"
   ]
  },
  {
   "cell_type": "code",
   "execution_count": null,
   "metadata": {},
   "outputs": [],
   "source": [
    "data_df.groupby(\"IS URBAN\").size()"
   ]
  },
  {
   "cell_type": "code",
   "execution_count": null,
   "metadata": {},
   "outputs": [],
   "source": [
    "data_df.groupby(\"IS URBAN\").agg({\"WEALTH INDEX\": \"mean\"})"
   ]
  },
  {
   "cell_type": "code",
   "execution_count": null,
   "metadata": {},
   "outputs": [],
   "source": [
    "data_df.groupby([\"IS URBAN\", \"LOCAL\"]).agg({\"WEALTH INDEX\": \"mean\"})"
   ]
  },
  {
   "cell_type": "code",
   "execution_count": null,
   "metadata": {},
   "outputs": [],
   "source": [
    "data_df.groupby(\"IS URBAN\").agg({\"LOCAL\": \"mean\"})"
   ]
  },
  {
   "cell_type": "markdown",
   "metadata": {},
   "source": [
    "Pairplots"
   ]
  },
  {
   "cell_type": "code",
   "execution_count": null,
   "metadata": {},
   "outputs": [],
   "source": [
    "corr_df = data_df.groupby(\"CLUSTER\").agg({\"WEALTH INDEX\": \"mean\", \"LOCAL\": \"mean\", \"IS URBAN\":\"mean\"}).sort_values(\"WEALTH INDEX\", ascending=False).dropna().reset_index()\n",
    "count_df = data_df.groupby(\"CLUSTER\").size().reset_index(name=\"COUNT\").sort_values(\"COUNT\", ascending=False)\n",
    "corr_df = corr_df.merge(count_df, on=\"CLUSTER\", how=\"left\")"
   ]
  },
  {
   "cell_type": "code",
   "execution_count": null,
   "metadata": {},
   "outputs": [],
   "source": [
    "corr_df[[\"WEALTH INDEX\", \"LOCAL\", \"IS URBAN\", \"COUNT\"]].corr()"
   ]
  },
  {
   "cell_type": "code",
   "execution_count": null,
   "metadata": {},
   "outputs": [],
   "source": [
    "data_df[[\"LOCAL\", \"IS URBAN\", \"WEALTH INDEX\"]].corr()"
   ]
  },
  {
   "cell_type": "code",
   "execution_count": null,
   "metadata": {},
   "outputs": [],
   "source": [
    "sns.histplot(data_df[\"LOCAL\"], bins=20)"
   ]
  },
  {
   "cell_type": "markdown",
   "metadata": {},
   "source": [
    "MOST CLUSTERS ARE TOURIST CLUSTERS"
   ]
  },
  {
   "cell_type": "code",
   "execution_count": null,
   "metadata": {},
   "outputs": [],
   "source": [
    "sns.histplot(corr_df[\"LOCAL\"], bins=20)"
   ]
  },
  {
   "cell_type": "code",
   "execution_count": null,
   "metadata": {},
   "outputs": [],
   "source": [
    "sns.pairplot(corr_df[[\"WEALTH INDEX\", \"LOCAL\", \"IS URBAN\", \"COUNT\"]])"
   ]
  },
  {
   "cell_type": "code",
   "execution_count": null,
   "metadata": {},
   "outputs": [],
   "source": [
    "sns.pairplot(corr_df[corr_df[\"COUNT\"]>1000][[\"WEALTH INDEX\", \"LOCAL\", \"IS URBAN\", \"COUNT\"]])"
   ]
  },
  {
   "cell_type": "code",
   "execution_count": null,
   "metadata": {},
   "outputs": [],
   "source": []
  },
  {
   "cell_type": "code",
   "execution_count": null,
   "metadata": {},
   "outputs": [],
   "source": [
    "data_df.groupby(\"OBSERVER ID\").agg({\"IS URBAN\": \"mean\"}).sort_values(\"IS URBAN\", ascending=False).plot(kind=\"hist\", bins=20, xlabel=\"URBANNESS\", ylabel=\"Number of Observers\")"
   ]
  },
  {
   "cell_type": "code",
   "execution_count": null,
   "metadata": {},
   "outputs": [],
   "source": [
    "fig = px.scatter_mapbox(data_df.sample(20000), lat=\"LATITUDE\", lon=\"LONGITUDE\", zoom=2, color = \"IS URBAN\",title=\"Urban Observers\")\n",
    "fig.update_layout(mapbox_style=\"open-street-map\", width=1000, height=1000)\n",
    "fig.show()"
   ]
  },
  {
   "cell_type": "code",
   "execution_count": null,
   "metadata": {},
   "outputs": [],
   "source": [
    "data_df[data_df[\"IS URBAN\"] == True][\"LOCAL\"].mean()"
   ]
  },
  {
   "cell_type": "code",
   "execution_count": null,
   "metadata": {},
   "outputs": [],
   "source": [
    "data_df[data_df[\"IS URBAN\"] == False][\"LOCAL\"].mean()"
   ]
  },
  {
   "cell_type": "code",
   "execution_count": null,
   "metadata": {},
   "outputs": [],
   "source": [
    "data_df[[\"LOCAL\", \"IS URBAN\"]].corr()"
   ]
  },
  {
   "cell_type": "markdown",
   "metadata": {},
   "source": [
    "# Population density Magic"
   ]
  },
  {
   "cell_type": "code",
   "execution_count": null,
   "metadata": {},
   "outputs": [],
   "source": []
  },
  {
   "cell_type": "code",
   "execution_count": null,
   "metadata": {},
   "outputs": [],
   "source": []
  },
  {
   "cell_type": "code",
   "execution_count": null,
   "metadata": {},
   "outputs": [],
   "source": []
  },
  {
   "cell_type": "code",
   "execution_count": null,
   "metadata": {},
   "outputs": [],
   "source": []
  },
  {
   "cell_type": "code",
   "execution_count": null,
   "metadata": {},
   "outputs": [],
   "source": []
  },
  {
   "cell_type": "markdown",
   "metadata": {},
   "source": [
    "# CLIMATE ANALYSIS"
   ]
  },
  {
   "cell_type": "code",
   "execution_count": null,
   "metadata": {},
   "outputs": [],
   "source": [
    "climate_data = pd.read_csv(\"climate_change.csv\")\n",
    "precipitation_data = pd.read_csv(\"precipitation.csv\")"
   ]
  },
  {
   "cell_type": "code",
   "execution_count": null,
   "metadata": {},
   "outputs": [],
   "source": [
    "climate_data"
   ]
  },
  {
   "cell_type": "code",
   "execution_count": null,
   "metadata": {},
   "outputs": [],
   "source": [
    "# climate_data[\"T2000_01\"] = climate_data[\"T2000_01\"]+273.15\n",
    "# climate_data[\"T2014_01\"] = climate_data[\"T2014_01\"]+273.15\n",
    "climate_data[['T2000_01', 'T2001_01', 'T2002_01', 'T2003_01', 'T2004_01', 'T2005_01', 'T2006_01', 'T2007_01', 'T2008_01', 'T2009_01', 'T2010_01', 'T2011_01', 'T2012_01', 'T2013_01', 'T2014_01']] = climate_data[['T2000_01', 'T2001_01', 'T2002_01', 'T2003_01', 'T2004_01', 'T2005_01', 'T2006_01', 'T2007_01', 'T2008_01', 'T2009_01', 'T2010_01', 'T2011_01', 'T2012_01', 'T2013_01', 'T2014_01']] + 273.15\n",
    "climate_data[\"CHANGE\"] = climate_data[\"T2014_01\"] - climate_data[\"T2000_01\"]\n",
    "climate_data[\"CHANGE PERC\"] = climate_data[\"CHANGE\"] / climate_data[\"T2000_01\"]"
   ]
  },
  {
   "cell_type": "code",
   "execution_count": null,
   "metadata": {},
   "outputs": [],
   "source": [
    "climate_data"
   ]
  },
  {
   "cell_type": "code",
   "execution_count": null,
   "metadata": {},
   "outputs": [],
   "source": [
    "precipitation_data[\"CHANGE\"] = precipitation_data[\"T2014_01\"] - precipitation_data[\"T2000_01\"]\n",
    "precipitation_data[\"CHANGE PERC\"] = precipitation_data[\"CHANGE\"] / precipitation_data[\"T2000_01\"]"
   ]
  },
  {
   "cell_type": "code",
   "execution_count": null,
   "metadata": {},
   "outputs": [],
   "source": []
  },
  {
   "cell_type": "code",
   "execution_count": null,
   "metadata": {},
   "outputs": [],
   "source": [
    "cluster_centers_df_clim = cluster_centers_df.copy()\n",
    "cluster_centers_df_clim[\"LATITUDE\"] = cluster_centers_df_clim[\"LATITUDE\"].apply(lambda x: round(x, 2))\n",
    "cluster_centers_df_clim[\"LONGITUDE\"] = cluster_centers_df_clim[\"LONGITUDE\"].apply(lambda x: round(x, 2))\n"
   ]
  },
  {
   "cell_type": "code",
   "execution_count": null,
   "metadata": {},
   "outputs": [],
   "source": [
    "def get_climate_perc_data(row):\n",
    "    lon = min(climate_data[\"GID_LON\"], key=lambda x: abs(x-row[\"LONGITUDE\"]))\n",
    "    lat = min(climate_data[\"GID_LAT\"], key=lambda x: abs(x-row[\"LATITUDE\"]))\n",
    "    return climate_data[(climate_data[\"GID_LON\"]==lon) & (climate_data[\"GID_LAT\"]==lat)][\"CHANGE PERC\"].values[0]\n",
    "def get_climate_data(row):\n",
    "    lon = min(climate_data[\"GID_LON\"], key=lambda x: abs(x-row[\"LONGITUDE\"]))\n",
    "    lat = min(climate_data[\"GID_LAT\"], key=lambda x: abs(x-row[\"LATITUDE\"]))\n",
    "    return climate_data[(climate_data[\"GID_LON\"]==lon) & (climate_data[\"GID_LAT\"]==lat)][\"CHANGE\"].values[0]\n"
   ]
  },
  {
   "cell_type": "code",
   "execution_count": null,
   "metadata": {},
   "outputs": [],
   "source": [
    "cluster_centers_df_clim[\"TEMP CHANGE PERC\"] = cluster_centers_df_clim.apply(get_climate_perc_data, axis=1)\n",
    "cluster_centers_df_clim[\"TEMP CHANGE\"] = cluster_centers_df_clim.apply(get_climate_data, axis=1)\n"
   ]
  },
  {
   "cell_type": "code",
   "execution_count": null,
   "metadata": {},
   "outputs": [],
   "source": [
    "def get_preci_perc_data(row):\n",
    "    lon = min(precipitation_data[\"GID_LON\"], key=lambda x: abs(x-row[\"LONGITUDE\"]))\n",
    "    lat = min(precipitation_data[\"GID_LAT\"], key=lambda x: abs(x-row[\"LATITUDE\"]))\n",
    "    return precipitation_data[(precipitation_data[\"GID_LON\"]==lon) & (precipitation_data[\"GID_LAT\"]==lat)][\"CHANGE PERC\"].values[0]\n",
    "def get_preci_data(row):\n",
    "    lon = min(precipitation_data[\"GID_LON\"], key=lambda x: abs(x-row[\"LONGITUDE\"]))\n",
    "    lat = min(precipitation_data[\"GID_LAT\"], key=lambda x: abs(x-row[\"LATITUDE\"]))\n",
    "    return precipitation_data[(precipitation_data[\"GID_LON\"]==lon) & (precipitation_data[\"GID_LAT\"]==lat)][\"CHANGE\"].values[0]"
   ]
  },
  {
   "cell_type": "code",
   "execution_count": null,
   "metadata": {},
   "outputs": [],
   "source": [
    "cluster_centers_df_clim[\"PRECI CHANGE PERC\"] = cluster_centers_df_clim.apply(get_preci_perc_data, axis=1)\n",
    "cluster_centers_df_clim[\"PRECI CHANGE\"] = cluster_centers_df_clim.apply(get_preci_data, axis=1)\n"
   ]
  },
  {
   "cell_type": "code",
   "execution_count": null,
   "metadata": {},
   "outputs": [],
   "source": [
    "cluster_centers_df_clim[\"LOCALNESS\"] = cluster_centers_df_clim[\"CLUSTER\"].apply(lambda x: data_df[data_df[\"CLUSTER\"]==x][\"LOCAL\"].mean())\n",
    "cluster_centers_df_clim[\"COUNT\"] = cluster_centers_df_clim[\"CLUSTER\"].apply(lambda x: data_df[data_df[\"CLUSTER\"]==x].shape[0])"
   ]
  },
  {
   "cell_type": "code",
   "execution_count": null,
   "metadata": {},
   "outputs": [],
   "source": [
    "sns.regplot(data=cluster_centers_df_clim, x=\"TEMP CHANGE\", y=\"PRECI CHANGE PERC\")"
   ]
  },
  {
   "cell_type": "code",
   "execution_count": null,
   "metadata": {},
   "outputs": [],
   "source": []
  }
 ],
 "metadata": {
  "kernelspec": {
   "display_name": "base",
   "language": "python",
   "name": "python3"
  },
  "language_info": {
   "codemirror_mode": {
    "name": "ipython",
    "version": 3
   },
   "file_extension": ".py",
   "mimetype": "text/x-python",
   "name": "python",
   "nbconvert_exporter": "python",
   "pygments_lexer": "ipython3",
   "version": "3.9.19"
  }
 },
 "nbformat": 4,
 "nbformat_minor": 2
}
